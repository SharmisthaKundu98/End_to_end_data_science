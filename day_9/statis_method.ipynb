{
 "cells": [
  {
   "cell_type": "markdown",
   "metadata": {},
   "source": [
    "# static methods "
   ]
  },
  {
   "cell_type": "markdown",
   "metadata": {},
   "source": [
    "- A static method is bound to the class, not to any specific object.\n",
    "- A static method does not receive an implicit first argument."
   ]
  },
  {
   "cell_type": "code",
   "execution_count": 1,
   "metadata": {},
   "outputs": [
    {
     "name": "stdout",
     "output_type": "stream",
     "text": [
      "The result is 3\n"
     ]
    }
   ],
   "source": [
    "class Maths(): \n",
    "      \n",
    "    @staticmethod\n",
    "    def addNum(num1, num2): \n",
    "        return num1 + num2 \n",
    "          \n",
    "      \n",
    "# Calling method of class \n",
    "# without creating instance \n",
    "res = Maths.addNum(1, 2) \n",
    "print(\"The result is\", res) "
   ]
  },
  {
   "cell_type": "code",
   "execution_count": 2,
   "metadata": {},
   "outputs": [
    {
     "name": "stdout",
     "output_type": "stream",
     "text": [
      "Is person adult: False\n",
      "\n",
      "Is person adult: True\n"
     ]
    }
   ],
   "source": [
    "class Person:  \n",
    "    def __init__(self, name, age):  \n",
    "        self.name = name  \n",
    "        self.age = age  \n",
    "        \n",
    "    # a static method to check if a Person is adult or not.  \n",
    "    @staticmethod \n",
    "    def isAdult(age):  \n",
    "        return age > 18\n",
    "          \n",
    "res = Person.isAdult(12) \n",
    "\n",
    "print('Is person adult:', res) \n",
    "      \n",
    "res = Person.isAdult(22) \n",
    "print('\\nIs person adult:', res) "
   ]
  },
  {
   "cell_type": "markdown",
   "metadata": {},
   "source": []
  },
  {
   "cell_type": "code",
   "execution_count": 3,
   "metadata": {},
   "outputs": [],
   "source": [
    "class Ineuron1:\n",
    "    def student_details(self , name , mail_id , number) : \n",
    "        print(name , mail_id, number)\n",
    "        \n",
    "    @staticmethod\n",
    "    def mentor_class(list_mentor) : \n",
    "        print(list_mentor)\n",
    "\n",
    "    # instance method    \n",
    "    def mentor(self , mentor_list) :\n",
    "        print(mentor_list)"
   ]
  },
  {
   "cell_type": "code",
   "execution_count": 4,
   "metadata": {},
   "outputs": [],
   "source": [
    "ineuron = Ineuron1()"
   ]
  },
  {
   "cell_type": "code",
   "execution_count": 5,
   "metadata": {},
   "outputs": [
    {
     "name": "stdout",
     "output_type": "stream",
     "text": [
      "['krish', 'sudhansu']\n"
     ]
    }
   ],
   "source": [
    "ineuron.mentor([\"krish\" , \"sudhansu\"])"
   ]
  },
  {
   "cell_type": "code",
   "execution_count": 6,
   "metadata": {},
   "outputs": [
    {
     "name": "stdout",
     "output_type": "stream",
     "text": [
      "['krish', 'sudhansu']\n"
     ]
    }
   ],
   "source": [
    "# static methods\n",
    "Ineuron1.mentor_class([\"krish\" , \"sudhansu\"])"
   ]
  },
  {
   "cell_type": "markdown",
   "metadata": {},
   "source": [
    "statice method is a method which is directly available to class, so it will available to all the objects or class that we are going to create"
   ]
  },
  {
   "cell_type": "markdown",
   "metadata": {},
   "source": [
    "## classmethod and staticmethod "
   ]
  },
  {
   "cell_type": "code",
   "execution_count": 7,
   "metadata": {},
   "outputs": [],
   "source": [
    "class Ineuron2:\n",
    "    def student_details(self , name , mail_id , number) : \n",
    "        print(name , mail_id, number)\n",
    "        \n",
    "    @staticmethod\n",
    "    def mentor_mail_id(mail_id):\n",
    "        print(mail_id)\n",
    "\n",
    "    # static method     \n",
    "    @staticmethod\n",
    "    def mentor_class(list_mentor) : \n",
    "        print(list_mentor)\n",
    "         # we can call a static method inside a static method.\n",
    "        Ineuron2.mentor_mail_id([\"krish@gmail.com\" , \"sudhansu@gmail.com\"])\n",
    "\n",
    "    # class method    \n",
    "    @classmethod\n",
    "    def class_name(cls,class_name):\n",
    "        cls.mentor_class([\"sudhansu\" , \"krish\"])\n",
    "\n",
    "    # instance method    \n",
    "    def mentor(self , mentor_list) :\n",
    "        print(mentor_list)\n",
    "        self.mentor_class([\"krish\" , \"sudhansu\"])"
   ]
  },
  {
   "cell_type": "code",
   "execution_count": 8,
   "metadata": {},
   "outputs": [],
   "source": [
    "ineuron2 = Ineuron2()"
   ]
  },
  {
   "cell_type": "code",
   "execution_count": 13,
   "metadata": {},
   "outputs": [
    {
     "name": "stdout",
     "output_type": "stream",
     "text": [
      "['krish', 'sudhansu']\n",
      "['krish@gmail.com', 'sudhansu@gmail.com']\n"
     ]
    }
   ],
   "source": [
    "Ineuron2.mentor_class([\"krish\" , \"sudhansu\"])"
   ]
  },
  {
   "cell_type": "code",
   "execution_count": 14,
   "metadata": {},
   "outputs": [
    {
     "name": "stdout",
     "output_type": "stream",
     "text": [
      "['sudhansu', 'krish']\n",
      "['krish@gmail.com', 'sudhansu@gmail.com']\n"
     ]
    }
   ],
   "source": [
    "ineuron2.class_name([\"krish\" , \"sudhansu\"])"
   ]
  },
  {
   "cell_type": "code",
   "execution_count": null,
   "metadata": {},
   "outputs": [],
   "source": []
  }
 ],
 "metadata": {
  "kernelspec": {
   "display_name": "learn",
   "language": "python",
   "name": "python3"
  },
  "language_info": {
   "codemirror_mode": {
    "name": "ipython",
    "version": 3
   },
   "file_extension": ".py",
   "mimetype": "text/x-python",
   "name": "python",
   "nbconvert_exporter": "python",
   "pygments_lexer": "ipython3",
   "version": "3.8.18"
  }
 },
 "nbformat": 4,
 "nbformat_minor": 2
}
