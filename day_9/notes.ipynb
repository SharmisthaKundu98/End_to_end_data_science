{
 "cells": [
  {
   "cell_type": "markdown",
   "metadata": {},
   "source": [
    "# day 9\n",
    "\n",
    "## Topics:\n",
    "\n",
    "\n",
    "\n",
    "1. Decorators\n",
    "\n",
    "\n",
    "2. classmethod\n",
    "\n",
    "\n",
    "3. staticmethod\n",
    "\n",
    "\n",
    "4. related notes"
   ]
  },
  {
   "cell_type": "markdown",
   "metadata": {},
   "source": [
    "# Decorators"
   ]
  },
  {
   "cell_type": "markdown",
   "metadata": {},
   "source": [
    "In Python, ``decorators`` are a powerful design pattern that allows you to modify the behavior of a function by wrapping it in another function. The `outer function` acts as the `decorator`, taking the original function as an argument and returning a modified version of it.\n",
    "- Decorators provide a way to extend or enhance the functionality of functions without permanently altering them.\n",
    "\n",
    "`- a function which return a function`"
   ]
  },
  {
   "cell_type": "code",
   "execution_count": 7,
   "metadata": {},
   "outputs": [],
   "source": [
    "# decorating our home in festive season,\n",
    "#  our home will not change,only we add some decorators so that it looks more beautiful"
   ]
  },
  {
   "cell_type": "markdown",
   "metadata": {},
   "source": [
    "In Python, functions are `first-class objects`. \n",
    "\n",
    "This means:\n",
    "- Functions can be assigned to variables.\n",
    "- Functions can be passed as arguments to other functions.\n",
    "- Functions can be returned from other functions.\n",
    "- Functions can be stored in data structures (e.g., lists, dictionaries)."
   ]
  },
  {
   "cell_type": "code",
   "execution_count": 1,
   "metadata": {},
   "outputs": [
    {
     "name": "stdout",
     "output_type": "stream",
     "text": [
      "HELLO\n"
     ]
    }
   ],
   "source": [
    "#a function which returns a function\n",
    "def test(text):\n",
    "    return text.upper()\n",
    "    \n",
    "yell = test\n",
    "\n",
    "print(yell(\"Hello\"))  # Output: HELLO"
   ]
  },
  {
   "cell_type": "markdown",
   "metadata": {},
   "source": [
    "We can define one function inside another, creating a nested function."
   ]
  },
  {
   "cell_type": "code",
   "execution_count": null,
   "metadata": {},
   "outputs": [],
   "source": [
    "def outer(x):\n",
    "    def inner(y):\n",
    "        return x + y\n",
    "    return inner\n",
    "\n",
    "add_five = outer(5)\n",
    "result = add_five(6)\n",
    "print(result)  # Output: 11"
   ]
  },
  {
   "cell_type": "markdown",
   "metadata": {},
   "source": [
    "Functions can be passed as arguments to other functions."
   ]
  },
  {
   "cell_type": "code",
   "execution_count": 1,
   "metadata": {},
   "outputs": [
    {
     "name": "stdout",
     "output_type": "stream",
     "text": [
      "10\n",
      "None\n"
     ]
    }
   ],
   "source": [
    "def add(x, y):\n",
    "    print(x + y)\n",
    "\n",
    "def calculate(func, x, y):\n",
    "    return func(x, y)\n",
    "\n",
    "result = calculate(add, 4, 6)\n",
    "print(result)  # Output: 10"
   ]
  },
  {
   "cell_type": "markdown",
   "metadata": {},
   "source": [
    "#### example :"
   ]
  },
  {
   "cell_type": "code",
   "execution_count": 4,
   "metadata": {},
   "outputs": [],
   "source": [
    "#decorator function\n",
    "def my_deco(func):\n",
    "    def printer():\n",
    "      func()\n",
    "      print(\"hello\")\n",
    "    return printer"
   ]
  },
  {
   "cell_type": "code",
   "execution_count": 5,
   "metadata": {},
   "outputs": [
    {
     "name": "stdout",
     "output_type": "stream",
     "text": [
      "bar\n",
      "hello\n"
     ]
    }
   ],
   "source": [
    "# without decorator use,\n",
    "def bar():\n",
    "    print(\"bar\")\n",
    "    return\n",
    "my_deco(bar)()"
   ]
  },
  {
   "cell_type": "code",
   "execution_count": 6,
   "metadata": {},
   "outputs": [
    {
     "name": "stdout",
     "output_type": "stream",
     "text": [
      "bar\n",
      "hello\n"
     ]
    }
   ],
   "source": [
    "#with decorator use\n",
    "\n",
    "@my_deco    # trying to decorate bar() func with my_decor() function.\n",
    "def bar():\n",
    "    print(\"bar\")\n",
    "    return\n",
    "\n",
    "bar()"
   ]
  },
  {
   "cell_type": "markdown",
   "metadata": {},
   "source": [
    "# @classmethods"
   ]
  },
  {
   "cell_type": "markdown",
   "metadata": {},
   "source": [
    "classmethod(function) -> method\n",
    "\n",
    "Convert a function to be a class method.\n",
    "\n",
    "A class method receives the class as implicit first argument, just like an instance method receives the instance. \n",
    "\n",
    "```\n",
    "class C:\n",
    "    @classmethod\n",
    "    def f(cls, arg1, arg2, ...):\n",
    "          ...\n",
    "```\n",
    "It can be called either on the class (e.g. C.f()) or on an instance (e.g. C().f()). The instance is ignored except for its class. If a class method is called for a derived class, the derived class object is passed as the implied first argument."
   ]
  },
  {
   "cell_type": "markdown",
   "metadata": {},
   "source": [
    "# @staticmethod\n",
    "* A static method is a method that belongs to a class, but it does not require an instance of that class for calling.\n",
    "\n",
    "* Unlike regular methods, you can call a static method without creating an object of the class.\n",
    "\n",
    "* They serve as good utility functions for the class.\n",
    "\n",
    "### some key points: \n",
    "\n",
    "- A static method is bound to the `class`, not to any specific object.\n",
    "\n",
    "- A static method does not receive an `implicit first argument`.\n",
    "\n",
    "- It cannot access or modify class state (i.e., instance variables).\n",
    "\n",
    "- It exists in the class because it makes sense for the method to be present there.\n",
    "\n",
    "- we can call a static method inside a static method.\n"
   ]
  },
  {
   "cell_type": "markdown",
   "metadata": {},
   "source": [
    "There can be some functionality that relates to the class, but does not require any instance(s) to do some work, static methods can be used in such cases. A static method is a method which is bound to the class and not the object of the class. It can’t access or modify class state. It is present in a class because it makes sense for the method to be present in class.\n",
    "\n",
    "` A static method does not receive an implicit first argument.`"
   ]
  },
  {
   "cell_type": "code",
   "execution_count": 10,
   "metadata": {},
   "outputs": [
    {
     "name": "stdout",
     "output_type": "stream",
     "text": [
      "The result is 3\n"
     ]
    }
   ],
   "source": [
    "class Maths(): \n",
    "      \n",
    "    @staticmethod\n",
    "    def addNum(num1, num2): \n",
    "        return num1 + num2 \n",
    "          \n",
    "      \n",
    "# Calling method of class \n",
    "# without creating instance \n",
    "res = Maths.addNum(1, 2) \n",
    "print(\"The result is\", res) "
   ]
  },
  {
   "cell_type": "code",
   "execution_count": 9,
   "metadata": {},
   "outputs": [],
   "source": []
  },
  {
   "cell_type": "code",
   "execution_count": null,
   "metadata": {},
   "outputs": [],
   "source": []
  }
 ],
 "metadata": {
  "kernelspec": {
   "display_name": "learn",
   "language": "python",
   "name": "python3"
  },
  "language_info": {
   "codemirror_mode": {
    "name": "ipython",
    "version": 3
   },
   "file_extension": ".py",
   "mimetype": "text/x-python",
   "name": "python",
   "nbconvert_exporter": "python",
   "pygments_lexer": "ipython3",
   "version": "3.8.18"
  }
 },
 "nbformat": 4,
 "nbformat_minor": 2
}
