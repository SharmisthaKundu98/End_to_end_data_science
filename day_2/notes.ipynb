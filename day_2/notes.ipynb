{
 "cells": [
  {
   "cell_type": "markdown",
   "metadata": {},
   "source": [
    "# Python Data structure "
   ]
  },
  {
   "cell_type": "markdown",
   "metadata": {},
   "source": [
    "## Lists:\n",
    "In Python, a list is a built-in data type used to store multiple items in a single variable. Lists are created using square brackets [ ].\n",
    "* ``Ordered``: Items have a defined order that won’t change.\n",
    "* ``Mutable``: You can modify, add, and remove items.\n",
    "* ``Allow duplicates``: Items with the same value are allowed.\n",
    "* ``Indexing``: Use index (starting from 0) to access items.\n",
    "       - Negative indexes count from the end (e.g., mylist[-1] refers to the last item).\n",
    "* Lists can contain different data types (e.g., strings, integers, booleans).\n"
   ]
  },
  {
   "cell_type": "markdown",
   "metadata": {},
   "source": [
    "## Tuples: \n",
    "\n",
    "Tuples are used to store multiple items in a single variable. In Python, tuples can be created by placing the elements inside parentheses `()`, separated by commas.\n",
    "* Tuple is a collection of objects which are ``ordered`` and ``immutable``(pyhton will raise an error if we try to change the value inside the tuple).\n",
    "* ``Tuples are appropriate for data that remains constant.``\n",
    "* Tuple is ``heterogeneous`` because it can contain elements of different data types, such as numbers, strings or other tuples. \n",
    "* Tuples can allow to contain ``duplicate`` values.\n",
    "* python also allows to create empty tuples using parentheses `( )`.\n",
    "* python provides built-in functions like `len()`, `max()`, `min()` etc., that work on tuples.\n",
    "* Usage: python tuples are used when you need an ordered set of immutable data."
   ]
  },
  {
   "cell_type": "markdown",
   "metadata": {},
   "source": [
    "## Dictionary\n",
    " ``{key:value}`` pair data structure to store data.In python, a dictionary is created by using curly brackets {}. \n",
    "* A dictionary can have any type of value associated with each key.\n",
    "* The ``keys are unique`` in the dictionary but ``values can be duplicate``.\n",
    "* We can access the value corresponding to the given key using square brackets [].\n",
    "* ``keys`` : tuple, boolean, int, float, string or variable name.\n",
    "    - Special case charecters(```@,#,$,%```) are not allowed as a key. only tuple can be key but list,set, dict are  not allowed(``unhashable``).\n",
    "* ``Values`` : Can be of different types like integer, float, string etc., even objects.\n",
    "* If we try to access the value for a non-existent key, it will raise a KeyError."
   ]
  },
  {
   "cell_type": "markdown",
   "metadata": {},
   "source": [
    "## Sets:\n",
    "In Python, a ``set`` is a versatile data type used to store collections of items. \n",
    "\n",
    "**Definition**: A ``set`` is an ``unordered`` collection of elements with ``no duplicate`` values. It is one of the four built-in data types in Python, alongside lists, tuples, and dictionaries.\n",
    "\n",
    "**Syntax**: Sets are created using curly braces {}. \n",
    "For example:\n",
    "myset = {\"apple\", \"banana\", \"cherry\"}\n",
    "\n",
    "**Properties:**\n",
    "\n",
    "- ``Unordered``: Set items do not have a defined order, so you cannot refer to them by index or key.\n",
    "\n",
    "- ``mutable``: we can modify sets using built-in methods. set has methods ``add(),pop(),clear(),remove(),discard()``\n",
    "\n",
    "\n",
    "- ``No duplicates``: Sets automatically remove duplicate values.\n",
    "- ``No indexing and slicing`` : 'set' object is not subscriptable. \n",
    "* set is a collection of ``unique`` elements. \n",
    "* set does not store ``list``,``dict``(unhashable).\n",
    "* set can converted into list, tuple.\n"
   ]
  },
  {
   "cell_type": "markdown",
   "metadata": {},
   "source": []
  }
 ],
 "metadata": {
  "language_info": {
   "name": "python"
  }
 },
 "nbformat": 4,
 "nbformat_minor": 2
}
