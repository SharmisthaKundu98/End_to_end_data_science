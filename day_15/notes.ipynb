{
 "cells": [
  {
   "cell_type": "markdown",
   "metadata": {},
   "source": [
    "# Day- 15\n",
    "\n",
    "## topics: \n",
    "1. databases\n",
    "2. MySQL\n",
    "3. SQL query"
   ]
  },
  {
   "cell_type": "markdown",
   "metadata": {},
   "source": [
    "## Database\n",
    "A database, is an organized collection of structured data, typically stored and accessed electronically from a computer system. Databases are designed to manage large volumes of data efficiently and provide mechanisms for data retrieval, storage, modification, and deletion.\n",
    "\n",
    "### Relational Databases (RDBMS):\n",
    "\n",
    "Examples: MySQL, PostgreSQL, Oracle Database, Microsoft SQL Server\n",
    "\n",
    "There are different types of databases, but one common type is the `relational database`, which organizes data into tables consisting of rows and columns. Each column represents an attribute of the data, while each row represents a single data record. Relational databases use SQL as the standard language for querying and managing data.\n",
    "\n",
    "### NoSQL Databases:\n",
    "\n",
    "Examples: MongoDB, Cassandra, Couchbase, Redis\n",
    "\n",
    "NoSQL databases (often interpreted as \"Not Only SQL\") provide a mechanism for storage and retrieval of data that is modeled in means other than the tabular relations used in relational databases. NoSQL databases are often used for large-scale distributed data stores, real-time applications, and other scenarios where traditional RDBMS might struggle to scale or meet performance requirements.\n"
   ]
  },
  {
   "cell_type": "markdown",
   "metadata": {},
   "source": [
    "## SQL \n",
    "`SQL` stands for Structured Query Language. It's a domain-specific language used in programming and designed for managing data held in a relational database management system (`RDBMS`) or for stream processing in a relational data stream management system (RDSMS).\n",
    "\n",
    "In essence, SQL provides a standardized way to interact with databases. It allows users to perform various operations such as querying data, inserting new records, updating existing records, and deleting records. SQL is not a general-purpose programming language; rather, it's specifically tailored for working with databases.\n",
    "\n",
    "\n",
    "*  `SQL is the language used to interact with databases, while a database is the structured collection of data managed by a database management system (DBMS) according to the rules of the database model being used, such as the relational model.`"
   ]
  },
  {
   "cell_type": "markdown",
   "metadata": {},
   "source": [
    "### sequence of steps involved in setting up and using a database:\n",
    "\n",
    "`Install and Configure Database Server:` The first step is to install the database management system (DBMS) software on a server or a computer. Popular database servers include MySQL, PostgreSQL, SQL Server, Oracle Database, and SQLite. Once installed, you may need to configure the server settings, such as network access, authentication methods, and storage configurations.\n",
    "\n",
    "`Start the Database Server:` After installation and configuration, you need to start the database server to make it available for connections.\n",
    "\n",
    "`Connect to the Database Server:` Using a database client or a programming language with database connectivity support (such as Python with MySQL connector), establish a connection to the database server. You typically need to provide connection parameters such as the host (or IP address) of the server, port number, username, and password.\n",
    "\n",
    "`Create a Database:` Once connected to the database server, you can create a new database using SQL commands. In most database systems, you would use a SQL command like CREATE DATABASE dbname; to create a new database, where dbname is the name you want to give to your database.\n",
    "\n",
    "`Use the Database:` After creating the database, you can start using it by creating tables, defining relationships, and inserting data. You can also perform queries to retrieve and manipulate data stored in the database.\n",
    "\n",
    "Here's a brief example using MySQL:"
   ]
  },
  {
   "cell_type": "markdown",
   "metadata": {},
   "source": [
    "\n",
    "-- Connect to the MySQL server (assuming it's running locally)\n",
    "\n",
    "mysql -u username -p\n",
    "\n",
    "-- Create a new database\n",
    "\n",
    "CREATE DATABASE mydatabase;\n",
    "\n",
    "-- Switch to the newly created database\n",
    "\n",
    "USE mydatabase;\n",
    "\n",
    "-- Create a table\n",
    "\n",
    "CREATE TABLE users (\n",
    "    id INT AUTO_INCREMENT PRIMARY KEY,\n",
    "    username VARCHAR(50) NOT NULL,\n",
    "    email VARCHAR(100) NOT NULL\n",
    ");\n",
    "\n",
    "-- Insert data into the table\n",
    "\n",
    "INSERT INTO users (username, email) VALUES ('john_doe', 'john@example.com');\n",
    "\n",
    "-- Retrieve data from the table\n",
    "\n",
    "SELECT * FROM users;"
   ]
  },
  {
   "cell_type": "code",
   "execution_count": null,
   "metadata": {},
   "outputs": [],
   "source": []
  }
 ],
 "metadata": {
  "kernelspec": {
   "display_name": "learn",
   "language": "python",
   "name": "python3"
  },
  "language_info": {
   "codemirror_mode": {
    "name": "ipython",
    "version": 3
   },
   "file_extension": ".py",
   "mimetype": "text/x-python",
   "name": "python",
   "nbconvert_exporter": "python",
   "pygments_lexer": "ipython3",
   "version": "3.8.18"
  }
 },
 "nbformat": 4,
 "nbformat_minor": 2
}
