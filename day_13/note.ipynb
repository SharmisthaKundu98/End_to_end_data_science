{
 "cells": [
  {
   "cell_type": "markdown",
   "metadata": {},
   "source": [
    "# day 13\n",
    "\n",
    "## topics: \n",
    "1. exception handling with try-except\n",
    "2. custom exception handling\n",
    "3. List of General exception handlings\n",
    "4. Threading\n"
   ]
  },
  {
   "cell_type": "markdown",
   "metadata": {},
   "source": [
    "## Exception handling"
   ]
  },
  {
   "cell_type": "markdown",
   "metadata": {},
   "source": [
    "`Exception handling` in Python is essential for gracefully managing errors and unexpected situations during program execution.\n",
    "\n",
    "- `Exception class`: Common base class for all non-exit exceptions. \n",
    "\n",
    "\n",
    "- `raise statement` : used to raise exceptions.\n",
    "\n",
    "##### Python has several built-in exceptions that can occur during program execution. We use the `try and except` blocks to handle exceptions"
   ]
  },
  {
   "cell_type": "code",
   "execution_count": 11,
   "metadata": {},
   "outputs": [
    {
     "name": "stdout",
     "output_type": "stream",
     "text": [
      "Error: Cannot divide by zero\n"
     ]
    }
   ],
   "source": [
    "try:\n",
    "    # Code that may cause an exception\n",
    "    result = 10 / 0  # Example: division by zero\n",
    "except ZeroDivisionError:\n",
    "    print(\"Error: Cannot divide by zero\")"
   ]
  },
  {
   "cell_type": "code",
   "execution_count": 18,
   "metadata": {},
   "outputs": [
    {
     "name": "stdout",
     "output_type": "stream",
     "text": [
      "there is some issue with my code, error is -  division by zero\n"
     ]
    }
   ],
   "source": [
    "try:\n",
    "    x = 10/0\n",
    "except Exception as e : # Exception: Common base class for all non-exit exceptions.\n",
    "    print(\"there is some issue with my code, error is - \", e)"
   ]
  },
  {
   "cell_type": "markdown",
   "metadata": {},
   "source": [
    "#### Finally Block:\n",
    "The finally block is optional but useful for cleanup actions-"
   ]
  },
  {
   "cell_type": "code",
   "execution_count": 12,
   "metadata": {},
   "outputs": [
    {
     "name": "stdout",
     "output_type": "stream",
     "text": [
      "Error: Cannot divide by zero\n",
      "Cleanup code here\n"
     ]
    }
   ],
   "source": [
    "try:\n",
    "    # Code that may cause an exception\n",
    "    result = 10 / 0\n",
    "except ZeroDivisionError:\n",
    "    print(\"Error: Cannot divide by zero\")\n",
    "finally:\n",
    "    print(\"Cleanup code here\")  # Executed regardless of whether an exception occurred"
   ]
  },
  {
   "cell_type": "markdown",
   "metadata": {},
   "source": [
    "### Custom exception: "
   ]
  },
  {
   "cell_type": "code",
   "execution_count": 19,
   "metadata": {},
   "outputs": [
    {
     "name": "stdout",
     "output_type": "stream",
     "text": [
      "Custom error: Something went wrong\n"
     ]
    }
   ],
   "source": [
    "class MyCustomError(Exception):\n",
    "    pass\n",
    "\n",
    "def my_function():\n",
    "    raise MyCustomError(\"Something went wrong\")\n",
    "\n",
    "try:\n",
    "    my_function()\n",
    "except MyCustomError as e:\n",
    "    print(f\"Custom error: {e}\")"
   ]
  },
  {
   "cell_type": "markdown",
   "metadata": {},
   "source": [
    "### Types of Exceptions in Python:\n",
    "Python has several built-in exceptions that can occur during program execution:\n",
    "\n",
    "- `SyntaxError`: Raised when the interpreter encounters a syntax error, such as a misspelled keyword or unbalanced parenthesis.\n",
    "- `TypeError`: Raised when an operation or function is applied to an object of the wrong type.\n",
    "- `NameError`: Raised when a variable or function name is not found in the current scope.\n",
    "- `IndexError`: Raised when an index is out of range for a list, tuple, or other sequence types.\n",
    "- `KeyError`: Raised when a key is not found in a dictionary.\n",
    "- `ValueError`: Raised when a function or method receives an invalid argument or input.\n",
    "- `AttributeError`: Raised when an attribute or method is not found on an object.\n",
    "- `IOError`: Raised when an I/O operation (e.g., reading or writing a file) fails due to an input/output error.\n",
    "- `ZeroDivisionError`: Raised when attempting to divide a number by zero.\n",
    "- `ImportError`: Raised when an import statement fails to find or load a module."
   ]
  },
  {
   "cell_type": "markdown",
   "metadata": {},
   "source": [
    "## best_practice in program:\n",
    "\n",
    "1. we can use Super class `Exception` for all, but we should use always a specific exception like `TypeError`. `FileNotFoundError` etc\n",
    "2. print always a valid msg\n",
    "3. always try to `log`\n",
    "4. avoid multiple exception handling \n",
    "5. prepare a proper documnetation\n",
    "6. cleanup all the resources \n"
   ]
  },
  {
   "cell_type": "markdown",
   "metadata": {},
   "source": [
    "# Threading:\n",
    "  the `threading` module provides a way to create and manage multiple threads of execution within a program."
   ]
  },
  {
   "cell_type": "markdown",
   "metadata": {},
   "source": []
  }
 ],
 "metadata": {
  "kernelspec": {
   "display_name": "learn",
   "language": "python",
   "name": "python3"
  },
  "language_info": {
   "codemirror_mode": {
    "name": "ipython",
    "version": 3
   },
   "file_extension": ".py",
   "mimetype": "text/x-python",
   "name": "python",
   "nbconvert_exporter": "python",
   "pygments_lexer": "ipython3",
   "version": "3.8.18"
  }
 },
 "nbformat": 4,
 "nbformat_minor": 2
}
