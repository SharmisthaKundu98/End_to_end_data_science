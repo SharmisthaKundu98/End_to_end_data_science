{
 "cells": [
  {
   "cell_type": "code",
   "execution_count": 5,
   "id": "2406b489-44d2-40d8-8d07-edd5dfd582d7",
   "metadata": {},
   "outputs": [
    {
     "name": "stdout",
     "output_type": "stream",
     "text": [
      "age is -22000\n"
     ]
    }
   ],
   "source": [
    "age = int(input(\"enter your age\"))\n",
    "print(f\"age is {age}\")"
   ]
  },
  {
   "cell_type": "markdown",
   "id": "e60cd1f9",
   "metadata": {},
   "source": [
    "we can see this is not a valid number for age. but system can't understand. in that case we can make our own custom exception based on our own conditions."
   ]
  },
  {
   "cell_type": "code",
   "execution_count": 6,
   "id": "e448f4d0",
   "metadata": {},
   "outputs": [],
   "source": [
    "# custom exception\n",
    "class Validate_age_exception(Exception): # inherits Exception class \n",
    "                                            #Exception (Common base class for all non-exit exceptions)\n",
    "    def __init__(self,msg):\n",
    "        self.msg = msg\n",
    "\n",
    "# check if the age is valid or not       \n",
    "def validate_age(age):\n",
    "    if age < 0:\n",
    "        raise Validate_age_exception(\"age should not be lesser then zero\") # raise the Exception\n",
    "    elif age > 200:\n",
    "        raise Validate_age_exception(\"age is too high\")\n",
    "    else:\n",
    "        raise Validate_age_exception(\"age is valid\")"
   ]
  },
  {
   "cell_type": "code",
   "execution_count": 7,
   "id": "d1903210-686b-4213-8632-37bc83a721bb",
   "metadata": {},
   "outputs": [
    {
     "name": "stdout",
     "output_type": "stream",
     "text": [
      "age is valid\n"
     ]
    }
   ],
   "source": [
    "try:\n",
    "    age = int(input(\"enter your age\"))\n",
    "    validate_age(age)\n",
    "except Validate_age_exception as e:\n",
    "    print(e)"
   ]
  },
  {
   "cell_type": "code",
   "execution_count": null,
   "id": "141dafbf",
   "metadata": {},
   "outputs": [],
   "source": []
  }
 ],
 "metadata": {
  "kernelspec": {
   "display_name": "Python 3 (ipykernel)",
   "language": "python",
   "name": "python3"
  },
  "language_info": {
   "codemirror_mode": {
    "name": "ipython",
    "version": 3
   },
   "file_extension": ".py",
   "mimetype": "text/x-python",
   "name": "python",
   "nbconvert_exporter": "python",
   "pygments_lexer": "ipython3",
   "version": "3.8.18"
  }
 },
 "nbformat": 4,
 "nbformat_minor": 5
}
