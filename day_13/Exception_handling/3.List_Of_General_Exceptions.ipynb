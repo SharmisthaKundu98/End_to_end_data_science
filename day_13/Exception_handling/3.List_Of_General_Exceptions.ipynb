{
 "cells": [
  {
   "cell_type": "markdown",
   "id": "551be509",
   "metadata": {},
   "source": [
    "### zero division error"
   ]
  },
  {
   "cell_type": "code",
   "execution_count": 1,
   "id": "1b8b2bb2-b0ba-4819-8954-298023af205a",
   "metadata": {},
   "outputs": [
    {
     "name": "stdout",
     "output_type": "stream",
     "text": [
      "division by zero\n"
     ]
    }
   ],
   "source": [
    "try :\n",
    "    a = 10 \n",
    "    10/0\n",
    "except ZeroDivisionError as e :\n",
    "    print(e)"
   ]
  },
  {
   "cell_type": "markdown",
   "id": "42aba469",
   "metadata": {},
   "source": [
    "### value error and Type error"
   ]
  },
  {
   "cell_type": "code",
   "execution_count": 2,
   "id": "410cf6a0-0e96-4373-a394-646dcd27073e",
   "metadata": {},
   "outputs": [
    {
     "name": "stdout",
     "output_type": "stream",
     "text": [
      "invalid literal for int() with base 10: 'sharmi'\n"
     ]
    }
   ],
   "source": [
    "try :\n",
    "    int(\"sharmi\")\n",
    "except (ValueError , TypeError) as e :\n",
    "    print(e)"
   ]
  },
  {
   "cell_type": "code",
   "execution_count": 3,
   "id": "d89ce21c-1359-4d81-b658-ef05cb8d0d76",
   "metadata": {},
   "outputs": [
    {
     "name": "stdout",
     "output_type": "stream",
     "text": [
      "this will catch an error\n"
     ]
    }
   ],
   "source": [
    "try :\n",
    "    int(\"sharmi\")\n",
    "except  :\n",
    "    print(\"this will catch an error\")"
   ]
  },
  {
   "cell_type": "markdown",
   "id": "a4fdd543",
   "metadata": {},
   "source": [
    "#### import error"
   ]
  },
  {
   "cell_type": "code",
   "execution_count": 4,
   "id": "0da78852-20e5-483f-b405-5e3376709e5a",
   "metadata": {},
   "outputs": [
    {
     "name": "stdout",
     "output_type": "stream",
     "text": [
      "No module named 'sharmi'\n"
     ]
    }
   ],
   "source": [
    "try :\n",
    "    import sharmi\n",
    "except ImportError as e : \n",
    "    print(e)"
   ]
  },
  {
   "cell_type": "markdown",
   "id": "f0d0ac44",
   "metadata": {},
   "source": [
    "### key error"
   ]
  },
  {
   "cell_type": "code",
   "execution_count": 5,
   "id": "74611d50-e614-4c52-bc83-b820962e6a5f",
   "metadata": {},
   "outputs": [
    {
     "name": "stdout",
     "output_type": "stream",
     "text": [
      "'key10'\n"
     ]
    }
   ],
   "source": [
    "try :\n",
    "    d = {1: [3,4,5,6] , \"key\" :\"sudh\"}\n",
    "    d[\"key10\"]\n",
    "except KeyError as e : \n",
    "    print(e)"
   ]
  },
  {
   "cell_type": "markdown",
   "id": "2c8b710b",
   "metadata": {},
   "source": [
    "### attribute error"
   ]
  },
  {
   "cell_type": "code",
   "execution_count": 7,
   "id": "ad958645-08fa-4e38-a7d0-b565f8bd8ca8",
   "metadata": {},
   "outputs": [
    {
     "name": "stdout",
     "output_type": "stream",
     "text": [
      "'str' object has no attribute 'test'\n"
     ]
    }
   ],
   "source": [
    "try :\n",
    "    \"sudh\".test()\n",
    "except AttributeError as e :\n",
    "    print(e)"
   ]
  },
  {
   "cell_type": "markdown",
   "id": "1d0702bc",
   "metadata": {},
   "source": [
    "### Index error"
   ]
  },
  {
   "cell_type": "code",
   "execution_count": 8,
   "id": "8729ec59-a4b8-47fd-a9cb-3b99d6b39ae4",
   "metadata": {},
   "outputs": [
    {
     "name": "stdout",
     "output_type": "stream",
     "text": [
      "list index out of range\n"
     ]
    }
   ],
   "source": [
    "try :\n",
    "    l = [1,2,3,3]\n",
    "    l[10]\n",
    "except IndexError as e :\n",
    "    print(e)"
   ]
  },
  {
   "cell_type": "markdown",
   "id": "0c7cae81",
   "metadata": {},
   "source": [
    "### Type error"
   ]
  },
  {
   "cell_type": "code",
   "execution_count": 9,
   "id": "447f2839-496e-469b-811d-c19c67f45b3d",
   "metadata": {},
   "outputs": [
    {
     "name": "stdout",
     "output_type": "stream",
     "text": [
      "unsupported operand type(s) for +: 'int' and 'str'\n"
     ]
    }
   ],
   "source": [
    "try :\n",
    "    123 + \"sudh\"\n",
    "except TypeError as e :\n",
    "    print(e)"
   ]
  },
  {
   "cell_type": "markdown",
   "id": "8e7a5784",
   "metadata": {},
   "source": [
    "### FileNotFoundError"
   ]
  },
  {
   "cell_type": "code",
   "execution_count": 7,
   "id": "70acc3f4-eca3-4eb1-bd58-44bd92e6761a",
   "metadata": {},
   "outputs": [
    {
     "name": "stdout",
     "output_type": "stream",
     "text": [
      "[Errno 2] No such file or directory: 'test2.txt'\n"
     ]
    }
   ],
   "source": [
    "try :\n",
    "    with open(\"test2.txt\" , 'r') as f :\n",
    "        f.read()\n",
    "except FileNotFoundError as e :\n",
    "    print(e)"
   ]
  },
  {
   "cell_type": "code",
   "execution_count": 8,
   "id": "86a18afb-77b7-4d48-8f80-f820bd59140f",
   "metadata": {},
   "outputs": [
    {
     "name": "stdout",
     "output_type": "stream",
     "text": [
      "test  [Errno 2] No such file or directory: 'test2.txt'\n"
     ]
    }
   ],
   "source": [
    "try :\n",
    "    with open(\"test2.txt\" , 'r') as f :\n",
    "        f.read()\n",
    "except Exception as e :\n",
    "    print(\"test \" , e)\n",
    "except FileNotFoundError as e :\n",
    "    print(\"this is my file not found type error \" , e)"
   ]
  },
  {
   "cell_type": "markdown",
   "id": "78590ec4",
   "metadata": {},
   "source": [
    "here, Exception is super class, and FileNotFoundError is sub class. so the next except line will not execute."
   ]
  },
  {
   "cell_type": "code",
   "execution_count": 14,
   "id": "2cd678b4-2d6d-46fd-97e9-c9f04cf4ef1e",
   "metadata": {},
   "outputs": [],
   "source": [
    "def test(file):\n",
    "    try :\n",
    "        with open(file, 'r') as f :\n",
    "            f.read()\n",
    "    except Exception as e :\n",
    "        print(\"test \" , e)\n",
    "    except FileNotFoundError as e :\n",
    "        print(\"this is my file not found type error \" , e)"
   ]
  },
  {
   "cell_type": "code",
   "execution_count": null,
   "id": "8a12733a-234f-4833-bf5d-db5fb505d6a2",
   "metadata": {},
   "outputs": [],
   "source": []
  }
 ],
 "metadata": {
  "kernelspec": {
   "display_name": "Python 3 (ipykernel)",
   "language": "python",
   "name": "python3"
  },
  "language_info": {
   "codemirror_mode": {
    "name": "ipython",
    "version": 3
   },
   "file_extension": ".py",
   "mimetype": "text/x-python",
   "name": "python",
   "nbconvert_exporter": "python",
   "pygments_lexer": "ipython3",
   "version": "3.8.18"
  }
 },
 "nbformat": 4,
 "nbformat_minor": 5
}
