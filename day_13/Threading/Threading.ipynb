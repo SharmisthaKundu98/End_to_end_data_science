{
 "cells": [
  {
   "cell_type": "code",
   "execution_count": 1,
   "id": "b4ecae69-5d26-4cdb-a429-c8aeb34177aa",
   "metadata": {},
   "outputs": [],
   "source": [
    "import threading"
   ]
  },
  {
   "cell_type": "code",
   "execution_count": 2,
   "id": "4283c596-f016-4a10-b94a-34422b3d58e5",
   "metadata": {},
   "outputs": [],
   "source": [
    "def test(id) :\n",
    "    print(\"this is my test id %d \" % id)"
   ]
  },
  {
   "cell_type": "code",
   "execution_count": 3,
   "id": "9611fa11-27e4-4dba-9c01-d63cc07f2d98",
   "metadata": {},
   "outputs": [
    {
     "name": "stdout",
     "output_type": "stream",
     "text": [
      "this is my test id 10 \n"
     ]
    }
   ],
   "source": [
    "test(10)"
   ]
  },
  {
   "cell_type": "code",
   "execution_count": 4,
   "id": "7dedc236-37d8-4576-8a0f-39f7673e090d",
   "metadata": {},
   "outputs": [
    {
     "name": "stdout",
     "output_type": "stream",
     "text": [
      "this is my test id 1 \n"
     ]
    }
   ],
   "source": [
    "test(1)"
   ]
  },
  {
   "cell_type": "code",
   "execution_count": 5,
   "id": "3b42e993-d06e-4f29-86a0-406506819914",
   "metadata": {},
   "outputs": [
    {
     "name": "stdout",
     "output_type": "stream",
     "text": [
      "this is my test id 3 \n"
     ]
    }
   ],
   "source": [
    "test(3)"
   ]
  },
  {
   "cell_type": "markdown",
   "id": "19ce2fb0",
   "metadata": {},
   "source": [
    "whatif we try to execute above those 3 functions test(10), test(1) and test(3) together, then how it is possible automatics way. so here We can use `Thread`"
   ]
  },
  {
   "cell_type": "code",
   "execution_count": 6,
   "id": "9f03a356-cbfa-47e1-9dd6-84fc1ff27391",
   "metadata": {},
   "outputs": [],
   "source": [
    "# list of threads\n",
    "thred = [threading.Thread(target=test , args = (i,)) for i in [10 , 1 ,3]]"
   ]
  },
  {
   "cell_type": "code",
   "execution_count": 7,
   "id": "ee217cab-543c-46d5-a4d8-e5fa71d36548",
   "metadata": {},
   "outputs": [
    {
     "data": {
      "text/plain": [
       "[<Thread(Thread-5, initial)>,\n",
       " <Thread(Thread-6, initial)>,\n",
       " <Thread(Thread-7, initial)>]"
      ]
     },
     "execution_count": 7,
     "metadata": {},
     "output_type": "execute_result"
    }
   ],
   "source": [
    "thred"
   ]
  },
  {
   "cell_type": "code",
   "execution_count": 8,
   "id": "2252fe69-9935-42de-9708-88f2427d8376",
   "metadata": {},
   "outputs": [
    {
     "name": "stdout",
     "output_type": "stream",
     "text": [
      "this is my test id 10 \n",
      "this is my test id 1 \n",
      "this is my test id 3 \n"
     ]
    }
   ],
   "source": [
    "for t in thred:\n",
    "    t.start()"
   ]
  },
  {
   "cell_type": "markdown",
   "id": "2716a268",
   "metadata": {},
   "source": [
    "`problem statements`: \n",
    "\n",
    "you have 3 links which have datasets. So write a program to fetch the data from those 3 links and then store it in local."
   ]
  },
  {
   "cell_type": "code",
   "execution_count": 9,
   "id": "05f2d3e3-f3d6-465f-b661-6484fe940533",
   "metadata": {},
   "outputs": [],
   "source": [
    "import urllib.request\n",
    "\n",
    "def file_download(url , filename):\n",
    "    urllib.request.urlretrieve(url , filename) #get the data from 'url' and store it as 'filename'"
   ]
  },
  {
   "cell_type": "code",
   "execution_count": 10,
   "id": "b50c9c89-b15a-4924-9c9f-2b33b9d02fbc",
   "metadata": {},
   "outputs": [],
   "source": [
    "file_download('https://raw.githubusercontent.com/itsfoss/text-files/master/agatha.txt' , \"test1.txt\")"
   ]
  },
  {
   "cell_type": "code",
   "execution_count": 11,
   "id": "870f948f-3b57-402f-b78f-b1bfc7bc45c5",
   "metadata": {},
   "outputs": [],
   "source": [
    "url_list = ['https://raw.githubusercontent.com/itsfoss/text-files/master/agatha.txt' , 'https://raw.githubusercontent.com/itsfoss/text-files/master/sherlock.txt' ,'https://raw.githubusercontent.com/itsfoss/text-files/master/sample_log_file.txt' ]"
   ]
  },
  {
   "cell_type": "code",
   "execution_count": 12,
   "id": "6aefd344-9e2f-4269-94b0-d6fc21829b5f",
   "metadata": {},
   "outputs": [
    {
     "data": {
      "text/plain": [
       "['https://raw.githubusercontent.com/itsfoss/text-files/master/agatha.txt',\n",
       " 'https://raw.githubusercontent.com/itsfoss/text-files/master/sherlock.txt',\n",
       " 'https://raw.githubusercontent.com/itsfoss/text-files/master/sample_log_file.txt']"
      ]
     },
     "execution_count": 12,
     "metadata": {},
     "output_type": "execute_result"
    }
   ],
   "source": [
    "url_list"
   ]
  },
  {
   "cell_type": "code",
   "execution_count": 13,
   "id": "213fc619-6707-41a2-936c-ee0f813c0783",
   "metadata": {},
   "outputs": [],
   "source": [
    "data_file_list = ['data1.txt', 'data2.txt','data3.txt']"
   ]
  },
  {
   "cell_type": "code",
   "execution_count": 14,
   "id": "fe12ba00-2a12-4dd2-9581-72542a14fa62",
   "metadata": {},
   "outputs": [],
   "source": [
    "thread1 = [threading.Thread(target=file_download , args=(url_list[i],data_file_list[i])) for i in range(len(url_list))]"
   ]
  },
  {
   "cell_type": "code",
   "execution_count": 15,
   "id": "1b680f19-07c5-4984-b26d-e1cd52860515",
   "metadata": {},
   "outputs": [],
   "source": [
    "for t in thread1:\n",
    "    t.start()"
   ]
  },
  {
   "cell_type": "code",
   "execution_count": 16,
   "id": "ca61b997-82f0-406c-b119-48518712c376",
   "metadata": {},
   "outputs": [
    {
     "data": {
      "text/plain": [
       "[<Thread(Thread-8, started 9892)>,\n",
       " <Thread(Thread-9, started 25128)>,\n",
       " <Thread(Thread-10, started 18320)>]"
      ]
     },
     "execution_count": 16,
     "metadata": {},
     "output_type": "execute_result"
    }
   ],
   "source": [
    "thread1"
   ]
  },
  {
   "cell_type": "markdown",
   "id": "ec23d740",
   "metadata": {},
   "source": []
  },
  {
   "cell_type": "code",
   "execution_count": 17,
   "id": "41a60ae3-a334-4554-94fe-13c8a4cf72bc",
   "metadata": {},
   "outputs": [],
   "source": [
    "import time"
   ]
  },
  {
   "cell_type": "code",
   "execution_count": 18,
   "id": "961368a8-38a9-4bd9-9549-b80f299a55d8",
   "metadata": {},
   "outputs": [],
   "source": [
    "def test2(x) : \n",
    "    for i in range(10) : \n",
    "        print(\" test1 print the value of x %d and print the value of i %d \" %(x,i))"
   ]
  },
  {
   "cell_type": "code",
   "execution_count": 19,
   "id": "142806e7",
   "metadata": {},
   "outputs": [
    {
     "name": "stdout",
     "output_type": "stream",
     "text": [
      " test1 print the value of x 2 and print the value of i 0 \n",
      " test1 print the value of x 2 and print the value of i 1 \n",
      " test1 print the value of x 2 and print the value of i 2 \n",
      " test1 print the value of x 2 and print the value of i 3 \n",
      " test1 print the value of x 2 and print the value of i 4 \n",
      " test1 print the value of x 2 and print the value of i 5 \n",
      " test1 print the value of x 2 and print the value of i 6 \n",
      " test1 print the value of x 2 and print the value of i 7 \n",
      " test1 print the value of x 2 and print the value of i 8 \n",
      " test1 print the value of x 2 and print the value of i 9 \n"
     ]
    }
   ],
   "source": [
    "test2(2)"
   ]
  },
  {
   "cell_type": "code",
   "execution_count": 20,
   "id": "b8d8720c",
   "metadata": {},
   "outputs": [],
   "source": [
    "def test2(x) : \n",
    "    for i in range(10) : \n",
    "        print(\" test1 print the value of x %d and print the value of i %d \" %(x,i))\n",
    "        time.sleep(1)"
   ]
  },
  {
   "cell_type": "code",
   "execution_count": 21,
   "id": "2306f075",
   "metadata": {},
   "outputs": [
    {
     "name": "stdout",
     "output_type": "stream",
     "text": [
      " test1 print the value of x 5 and print the value of i 0 \n"
     ]
    },
    {
     "name": "stdout",
     "output_type": "stream",
     "text": [
      " test1 print the value of x 5 and print the value of i 1 \n",
      " test1 print the value of x 5 and print the value of i 2 \n",
      " test1 print the value of x 5 and print the value of i 3 \n",
      " test1 print the value of x 5 and print the value of i 4 \n",
      " test1 print the value of x 5 and print the value of i 5 \n",
      " test1 print the value of x 5 and print the value of i 6 \n",
      " test1 print the value of x 5 and print the value of i 7 \n",
      " test1 print the value of x 5 and print the value of i 8 \n",
      " test1 print the value of x 5 and print the value of i 9 \n"
     ]
    }
   ],
   "source": [
    "test2(5) # with time.sleep(1) it will execute one by one "
   ]
  },
  {
   "cell_type": "code",
   "execution_count": 27,
   "id": "8d7a81cc-78a5-4f62-9aa9-877b7a0c3c6f",
   "metadata": {},
   "outputs": [],
   "source": [
    "thread2 = [threading.Thread(target=test2 , args=(i,)) for i in [100 , 10,20,5]]"
   ]
  },
  {
   "cell_type": "code",
   "execution_count": 28,
   "id": "675f6b23",
   "metadata": {},
   "outputs": [
    {
     "name": "stdout",
     "output_type": "stream",
     "text": [
      " test1 print the value of x 100 and print the value of i 0 \n",
      " test1 print the value of x 10 and print the value of i 0 \n",
      " test1 print the value of x 20 and print the value of i 0 \n",
      " test1 print the value of x 5 and print the value of i 0 \n"
     ]
    },
    {
     "name": "stdout",
     "output_type": "stream",
     "text": [
      " test1 print the value of x 20 and print the value of i 1 \n",
      " test1 print the value of x 5 and print the value of i 1 \n",
      " test1 print the value of x 100 and print the value of i 1 \n",
      " test1 print the value of x 10 and print the value of i 1 \n",
      " test1 print the value of x 5 and print the value of i 2 \n",
      " test1 print the value of x 100 and print the value of i 2 \n",
      " test1 print the value of x 10 and print the value of i 2 \n",
      " test1 print the value of x 20 and print the value of i 2 \n",
      " test1 print the value of x 10 and print the value of i 3  test1 print the value of x 20 and print the value of i 3 \n",
      "\n",
      " test1 print the value of x 100 and print the value of i 3 \n",
      " test1 print the value of x 5 and print the value of i 3 \n",
      " test1 print the value of x 100 and print the value of i 4  test1 print the value of x 10 and print the value of i 4 \n",
      " test1 print the value of x 5 and print the value of i 4 \n",
      " test1 print the value of x 20 and print the value of i 4 \n",
      "\n",
      " test1 print the value of x 20 and print the value of i 5  test1 print the value of x 100 and print the value of i 5 \n",
      " test1 print the value of x 10 and print the value of i 5 \n",
      " test1 print the value of x 5 and print the value of i 5 \n",
      "\n",
      " test1 print the value of x 5 and print the value of i 6  test1 print the value of x 10 and print the value of i 6 \n",
      " test1 print the value of x 20 and print the value of i 6 \n",
      " test1 print the value of x 100 and print the value of i 6 \n",
      "\n",
      " test1 print the value of x 10 and print the value of i 7  test1 print the value of x 5 and print the value of i 7 \n",
      " test1 print the value of x 20 and print the value of i 7 \n",
      " test1 print the value of x 100 and print the value of i 7 \n",
      "\n",
      " test1 print the value of x 5 and print the value of i 8 \n",
      " test1 print the value of x 20 and print the value of i 8 \n",
      " test1 print the value of x 100 and print the value of i 8 \n",
      " test1 print the value of x 10 and print the value of i 8 \n",
      " test1 print the value of x 20 and print the value of i 9  test1 print the value of x 5 and print the value of i 9 \n",
      " test1 print the value of x 10 and print the value of i 9 \n",
      " test1 print the value of x 100 and print the value of i 9 \n",
      "\n"
     ]
    }
   ],
   "source": [
    "for t in thread2:\n",
    "    t.start()   # with time.sleep(1)"
   ]
  },
  {
   "cell_type": "code",
   "execution_count": 29,
   "id": "5593f868-bde7-4889-a331-53b88a82a81e",
   "metadata": {},
   "outputs": [],
   "source": [
    "# for t in thread2:\n",
    "#     t.start()   # without time.sleep(1) it will execute at once"
   ]
  },
  {
   "cell_type": "markdown",
   "id": "c7dea4a9",
   "metadata": {},
   "source": [
    "### lock the threads"
   ]
  },
  {
   "cell_type": "code",
   "execution_count": 31,
   "id": "2ed7e4f3-0047-4efe-a101-03da53d1223d",
   "metadata": {},
   "outputs": [],
   "source": [
    "shared_var = 0 \n",
    "lock_var = threading.Lock()   # lock the resources\n",
    "\n",
    "def test3(x) : \n",
    "    global shared_var\n",
    "    with lock_var : \n",
    "        shared_var = shared_var + 1\n",
    "        print(\"value of x is %d and value of shared_var is %d \" %(x, shared_var))\n",
    "        time.sleep(1)"
   ]
  },
  {
   "cell_type": "code",
   "execution_count": 32,
   "id": "b03f1728",
   "metadata": {},
   "outputs": [
    {
     "name": "stdout",
     "output_type": "stream",
     "text": [
      "value of x is 1 and value of shared_var is 1 \n"
     ]
    },
    {
     "name": "stdout",
     "output_type": "stream",
     "text": [
      "value of x is 2 and value of shared_var is 2 \n",
      "value of x is 3 and value of shared_var is 3 \n",
      "value of x is 4 and value of shared_var is 4 \n",
      "value of x is 4 and value of shared_var is 5 \n",
      "value of x is 5 and value of shared_var is 6 \n"
     ]
    }
   ],
   "source": [
    "thread3  = [threading.Thread(target=test3 , args = (i,)) for i in [1,2,3,4,4,5]]\n",
    "for t in thread3 : \n",
    "    t.start()"
   ]
  },
  {
   "cell_type": "code",
   "execution_count": 33,
   "id": "97375da3-3557-4df7-a8ff-02f23b9db143",
   "metadata": {},
   "outputs": [
    {
     "name": "stdout",
     "output_type": "stream",
     "text": [
      "value of x is 1 and value of shared_var is 7 \n"
     ]
    }
   ],
   "source": [
    "test3(1)"
   ]
  },
  {
   "cell_type": "code",
   "execution_count": null,
   "id": "d6655ebd-7ecc-4665-8299-3db592ccdf8b",
   "metadata": {},
   "outputs": [],
   "source": []
  }
 ],
 "metadata": {
  "kernelspec": {
   "display_name": "Python 3 (ipykernel)",
   "language": "python",
   "name": "python3"
  },
  "language_info": {
   "codemirror_mode": {
    "name": "ipython",
    "version": 3
   },
   "file_extension": ".py",
   "mimetype": "text/x-python",
   "name": "python",
   "nbconvert_exporter": "python",
   "pygments_lexer": "ipython3",
   "version": "3.8.18"
  }
 },
 "nbformat": 4,
 "nbformat_minor": 5
}
