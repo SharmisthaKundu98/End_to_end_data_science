{
 "cells": [
  {
   "cell_type": "markdown",
   "metadata": {},
   "source": [
    "# Day - 17\n",
    "## Topics-\n",
    "1. API\n",
    "2. WEB API\n",
    "3. REST API\n",
    "4. SOAP architecture \n",
    "5. RESTful APIs "
   ]
  },
  {
   "cell_type": "markdown",
   "metadata": {},
   "source": [
    "# API - Application Programming Interface"
   ]
  },
  {
   "cell_type": "markdown",
   "metadata": {},
   "source": [
    "- API is a set of protocols that enable different software components to communicate and transfer data.\n",
    "    - Developers use APIs to bridge the gaps between small, discrete chunks of code in order to create applications that are powerful, resilient, secure, and able to meet user needs. Even though you can't see them, APIs are everywhere—working continuously in the background to power the digital experiences that are essential to our modern lives."
   ]
  },
  {
   "cell_type": "markdown",
   "metadata": {},
   "source": [
    "`Creating API basically means`- creating something by which you can try to communicate between two homogeneous(framework,language,library are same) or heterogeneous system.\n",
    "API that we can create with help of TCP,SMTP,HTTP protocols based on the application we want to create."
   ]
  },
  {
   "cell_type": "markdown",
   "metadata": {},
   "source": [
    "#### How do APIs work?\n",
    "APIs work by sharing data between applications, systems, and devices. This happens through a request and response cycle. A user initiates a request for data by interacting with an application. The request is sent to the API, which retrieves the data and returns it to the user."
   ]
  },
  {
   "cell_type": "markdown",
   "metadata": {},
   "source": [
    "Application frontend -----(request)----> API ---------------------> API server\n",
    "\n",
    "\n",
    "API server(any database/any api) ------> API -----(response)----> Application frontend"
   ]
  },
  {
   "cell_type": "markdown",
   "metadata": {},
   "source": [
    "ex - \n",
    "#### In restaurants, \n",
    "- customer(user) who tell what she wants.\n",
    "- The waiter(API), receiving the customer's order and `translating it into easy-to-follow instructions for the kitchen—sometimes using specific codes that the kitchen staff will recognize`.\n",
    "- The kitchen staff(API server), it creates the food order according to the customer's specifications and gives it to the waiter(API), who then delivers it to the customer(user)."
   ]
  },
  {
   "cell_type": "markdown",
   "metadata": {},
   "source": [
    "# Web API\n",
    "`Web API` stands for Web Application Programming Interface. It’s a concept that allows developers to create and interact with services over the web using the `HTTP protocol`. "
   ]
  },
  {
   "cell_type": "markdown",
   "metadata": {},
   "source": [
    "Eg - \n",
    "#### Gmail\n"
   ]
  },
  {
   "cell_type": "markdown",
   "metadata": {},
   "source": [
    "## Differents between API and Web API\n",
    "- Protocols(set of rules)\n",
    "    - For API - API use these protocols- TCP,SMTP,HTTP\n",
    "    - for Web API - only HTTP"
   ]
  },
  {
   "cell_type": "markdown",
   "metadata": {},
   "source": [
    "# REST API-\n",
    "(REpresentational State Transfer APIs)\n",
    "\n",
    "`REST` which is a set of principles for building web services that use `HTTP` as a communication protocol.\n",
    "\n",
    "`REST API` communicate through `internet`, Its letting you to take advantages of resourses like storage, access more data etc.\n",
    "\n",
    "`REST` is the most popular API architecture for transferring data over the internet. In a RESTful context, resources are accessible via endpoints, and operations are performed on those resources with standard `HTTP methods such as GET, POST, PUT, and DELETE`.\n",
    "\n",
    "features:\n",
    "- simplicity\n",
    "- scalability\n",
    "- flexibility"
   ]
  },
  {
   "cell_type": "markdown",
   "metadata": {},
   "source": [
    "## SOAP architecture\n",
    "(Simple Object Access Protocol)\n",
    "`SOAP:` SOAP, uses `XML` to transfer highly structured messages between a client and server. SOAP is often used in enterprise environments or legacy systems, and while it includes advanced security features, it can be slower than other API architectures.\n",
    "\n",
    "- TCP, SMTP protocols"
   ]
  },
  {
   "cell_type": "markdown",
   "metadata": {},
   "source": [
    "### Difference between REST and SOAP\n",
    "- REST is less secure , SOAP is better in security.\n",
    "- REST is flexible,simple and scalable."
   ]
  },
  {
   "cell_type": "markdown",
   "metadata": {},
   "source": [
    "## RESTful APIs (RESTful service)\n",
    "`RESTful APIs` are web services that follow `REST` architecture style.\n",
    "`REST` which is a set of principles for building web services that use HTTP as a communication protocol."
   ]
  },
  {
   "cell_type": "markdown",
   "metadata": {},
   "source": []
  }
 ],
 "metadata": {
  "kernelspec": {
   "display_name": "learn",
   "language": "python",
   "name": "python3"
  },
  "language_info": {
   "codemirror_mode": {
    "name": "ipython",
    "version": 3
   },
   "file_extension": ".py",
   "mimetype": "text/x-python",
   "name": "python",
   "nbconvert_exporter": "python",
   "pygments_lexer": "ipython3",
   "version": "3.8.18"
  }
 },
 "nbformat": 4,
 "nbformat_minor": 2
}
