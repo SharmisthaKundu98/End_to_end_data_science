{
 "cells": [
  {
   "cell_type": "markdown",
   "metadata": {},
   "source": [
    "# day - 10\n",
    "\n",
    "### Topics-\n",
    "\n",
    "1. special (magic/dunder) method\n",
    "\n",
    "2. property decorators - Getters, Setters and Deletes"
   ]
  },
  {
   "cell_type": "markdown",
   "metadata": {},
   "source": [
    "## Special (magic/ dunder) method"
   ]
  },
  {
   "cell_type": "markdown",
   "metadata": {},
   "source": [
    "`Magic methods`, also known as `dunder methods` (short for “`double underscore`”), are special methods in Python that start and end with double underscores. These methods provide a way to customize the behavior of built-in Python operations and make user-defined classes more intuitive and powerful"
   ]
  },
  {
   "cell_type": "markdown",
   "metadata": {},
   "source": [
    " Magic methods are most frequently used to define `overloaded behaviors` of predefined operators in Python. For instance, arithmetic operators by default operate upon numeric operands. To make this overloaded behavior available in your own custom class, you need to `override the corresponding magic method`. \n",
    " \n",
    "For example, to use the `+` operator with objects of a user-defined class, you should include the` __add__()` method in your class"
   ]
  },
  {
   "cell_type": "markdown",
   "metadata": {},
   "source": [
    "#### Common Magic Methods:\n",
    "\n",
    "- `__add__(self, other)`: Called when you use the + operator.\n",
    "- `__str__(self)`: Returns a string representation of the object.\n",
    "- `__new__(cls, *args, **kwargs)`: Used to create a new instance of a class.\n",
    "- `__ge__(self, other)`: Called when you use the >= operator."
   ]
  },
  {
   "cell_type": "code",
   "execution_count": 2,
   "metadata": {},
   "outputs": [
    {
     "name": "stdout",
     "output_type": "stream",
     "text": [
      "Custom addition: <__main__.MyClass object at 0x000002A986A4D6D0> + <__main__.MyClass object at 0x000002A986A4DA90>\n"
     ]
    }
   ],
   "source": [
    "class MyClass:\n",
    "    \n",
    "    def __add__(self, other):\n",
    "        return f\"Custom addition: {self} + {other}\"\n",
    "\n",
    "obj1 = MyClass()\n",
    "obj2 = MyClass()\n",
    "result = obj1 + obj2  # Calls obj1.__add__(obj2)\n",
    "print(result)  # Custom addition: <__main__.MyClass object at 0x...> + <__main__.MyClass object at 0x...>"
   ]
  },
  {
   "cell_type": "markdown",
   "metadata": {},
   "source": []
  },
  {
   "cell_type": "markdown",
   "metadata": {},
   "source": [
    "## Property Decorators - getters, setters and deletes\n"
   ]
  },
  {
   "cell_type": "markdown",
   "metadata": {},
   "source": [
    "#### The `@property` Decorator:\n",
    "It’s a built-in decorator for the `property()` function in Python. \n",
    "- which can expose your property of the class to the outer world.\n",
    "\n",
    "- We use it to give special functionality to certain methods, making them act as:\n",
    "    - `Getters (fget)`: To retrieve the value of an attribute.\n",
    "    - `Setters (fset)`: To set the value of an attribute.\n",
    "    - `Deleters (fdel)`: To delete an instance attribute."
   ]
  },
  {
   "cell_type": "markdown",
   "metadata": {},
   "source": [
    "By using `@property`, you can reuse the attribute name for `getters`, `setters`, and `deleters`, making your code cleaner and more intuitive."
   ]
  },
  {
   "cell_type": "code",
   "execution_count": 10,
   "metadata": {},
   "outputs": [
    {
     "name": "stdout",
     "output_type": "stream",
     "text": [
      "ineuron\n"
     ]
    }
   ],
   "source": [
    "class Portal:\n",
    " \n",
    "    # Defining __init__ method\n",
    "    def __init__(self):\n",
    "        self.__name ='' # private variable\n",
    "     \n",
    "    # Using @property decorator\n",
    "    @property\n",
    "     \n",
    "    # Getter method\n",
    "    def name(self):\n",
    "        return self.__name\n",
    "     \n",
    "    # Setter method\n",
    "    @name.setter\n",
    "    def name(self, val):\n",
    "        self.__name = val\n",
    " \n",
    "    # Deleter method\n",
    "    @name.deleter\n",
    "    def name(self):\n",
    "       del self.__name\n",
    " \n",
    "# Creating object\n",
    "p = Portal();\n",
    " \n",
    "# Setting name\n",
    "p.name = 'ineuron'\n",
    " \n",
    "# Prints name\n",
    "print (p.name)\n",
    " \n",
    "# Deletes name\n",
    "del p.name"
   ]
  },
  {
   "cell_type": "markdown",
   "metadata": {},
   "source": [
    "here the variable `__name` is private, other persons can't access. if we want to give access then we can use `@property` decorators. with `Getter` we can get the value of the attribute `__name` and set a value with `setter` and delete with `deleter`"
   ]
  },
  {
   "cell_type": "markdown",
   "metadata": {},
   "source": [
    "#### Getters : To retrieve the value of an attribute.\n",
    "\n",
    "Use :  They ensure data encapsulation by providing controlled access to an attribute. Instead of directly accessing the attribute, users call the getter method.\n"
   ]
  },
  {
   "cell_type": "code",
   "execution_count": 22,
   "metadata": {},
   "outputs": [
    {
     "name": "stdout",
     "output_type": "stream",
     "text": [
      "Alice\n"
     ]
    }
   ],
   "source": [
    "class Student:\n",
    "    def __init__(self, name, age):\n",
    "        self._name = name\n",
    "        self._age = age\n",
    "\n",
    "    def get_name(self):\n",
    "        return self._name\n",
    "\n",
    "    def get_age(self):\n",
    "        return self._age\n",
    "\n",
    "student1 = Student(\"Alice\", 20)\n",
    "print(student1.get_name())  # Output: \"Alice\""
   ]
  },
  {
   "cell_type": "markdown",
   "metadata": {},
   "source": [
    "#### Setters : To set the value of an attribute.\n",
    "\n",
    "use: They add validation logic around setting a value. By using setters, you can enforce rules or constraints before updating an attribute."
   ]
  },
  {
   "cell_type": "code",
   "execution_count": 21,
   "metadata": {},
   "outputs": [
    {
     "name": "stdout",
     "output_type": "stream",
     "text": [
      "Invalid balance. Cannot set a negative value.\n"
     ]
    }
   ],
   "source": [
    "class BankAccount:\n",
    "    def __init__(self, balance):\n",
    "        self._balance = balance\n",
    "\n",
    "    def set_balance(self, new_balance):\n",
    "        if new_balance >= 0:\n",
    "            self._balance = new_balance\n",
    "        else:\n",
    "            print(\"Invalid balance. Cannot set a negative value.\")\n",
    "\n",
    "account = BankAccount(1000)\n",
    "account.set_balance(1500)  # Valid update\n",
    "account.set_balance(-200)  # Invalid update"
   ]
  },
  {
   "cell_type": "markdown",
   "metadata": {},
   "source": [
    "#### Deleters: To delete an instance attribute.\n",
    "\n",
    " use: They provide a controlled way to remove an attribute. You can perform additional actions (e.g., logging) before deletion."
   ]
  },
  {
   "cell_type": "code",
   "execution_count": 20,
   "metadata": {},
   "outputs": [
    {
     "name": "stdout",
     "output_type": "stream",
     "text": [
      "Hat not found in the cart.\n"
     ]
    }
   ],
   "source": [
    "class ShoppingCart:\n",
    "    def __init__(self):\n",
    "        self._items = []\n",
    "\n",
    "    def add_item(self, item):\n",
    "        self._items.append(item)\n",
    "\n",
    "    def del_item(self, item):\n",
    "        if item in self._items:\n",
    "            self._items.remove(item)\n",
    "        else:\n",
    "            print(f\"{item} not found in the cart.\")\n",
    "\n",
    "cart = ShoppingCart()\n",
    "cart.add_item(\"Shoes\")\n",
    "cart.add_item(\"Books\")\n",
    "cart.del_item(\"Books\")  # Removes \"Books\" from the cart\n",
    "cart.del_item(\"Hat\")   "
   ]
  },
  {
   "cell_type": "markdown",
   "metadata": {},
   "source": []
  }
 ],
 "metadata": {
  "kernelspec": {
   "display_name": "learn",
   "language": "python",
   "name": "python3"
  },
  "language_info": {
   "codemirror_mode": {
    "name": "ipython",
    "version": 3
   },
   "file_extension": ".py",
   "mimetype": "text/x-python",
   "name": "python",
   "nbconvert_exporter": "python",
   "pygments_lexer": "ipython3",
   "version": "3.8.18"
  }
 },
 "nbformat": 4,
 "nbformat_minor": 2
}
