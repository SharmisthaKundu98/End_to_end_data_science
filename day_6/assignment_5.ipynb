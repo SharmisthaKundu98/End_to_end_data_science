{
 "cells": [
  {
   "cell_type": "code",
   "execution_count": 2,
   "metadata": {},
   "outputs": [
    {
     "name": "stdout",
     "output_type": "stream",
     "text": [
      "120\n"
     ]
    }
   ],
   "source": [
    "## factorial of number\n",
    "def factorial_of_a_number(number):\n",
    "    \"\"\"return factorial of a number\"\"\"\n",
    "    fact = 1\n",
    "    while number >= 1:\n",
    "        fact = fact * number\n",
    "        number -=1\n",
    "    return fact\n",
    "\n",
    "print(factorial_of_a_number(5))"
   ]
  },
  {
   "cell_type": "code",
   "execution_count": 5,
   "metadata": {},
   "outputs": [
    {
     "name": "stdout",
     "output_type": "stream",
     "text": [
      "0\n",
      "1\n",
      "1\n",
      "2\n"
     ]
    }
   ],
   "source": [
    "## return fibbonaccy series to n-th\n",
    "def nth_fibbonacci(number):\n",
    "    \"\"\" return fibbonaccy series to n-th\"\"\"\n",
    "    if number  > 0:\n",
    "        print(0)\n",
    "    if number > 1:\n",
    "        print(1)\n",
    "    number_1 = 0\n",
    "    number_2 = 1\n",
    "    count = 3\n",
    "    while count <= number:\n",
    "        number_3 = number_1 + number_2\n",
    "        number_1 = number_2\n",
    "        number_2 = number_3\n",
    "        count += 1\n",
    "        print(number_3)\n",
    "\n",
    "nth_fibbonacci(4)"
   ]
  },
  {
   "cell_type": "code",
   "execution_count": 11,
   "metadata": {},
   "outputs": [
    {
     "name": "stdout",
     "output_type": "stream",
     "text": [
      "True\n"
     ]
    }
   ],
   "source": [
    "## check if a year is leap year or not.\n",
    "def is_leap(year):\n",
    "    \"\"\"check if a year is leap year or not.\n",
    "    return True if yes and\n",
    "            False if No\n",
    "    \"\"\"\n",
    "    leap = False\n",
    "    if year % 4 == 0:\n",
    "        if year % 100 == 0:\n",
    "            if year% 400 == 0:\n",
    "                leap = True\n",
    "        else:\n",
    "            leap = True\n",
    "    else:\n",
    "        leap = False    \n",
    "            \n",
    "    \n",
    "    return leap\n",
    "\n",
    "year = int(input())\n",
    "print(is_leap(year))"
   ]
  },
  {
   "cell_type": "code",
   "execution_count": 18,
   "metadata": {},
   "outputs": [
    {
     "name": "stdout",
     "output_type": "stream",
     "text": [
      "total number of even number within the given range is 7\n",
      "sum of those number is 56\n",
      "None\n"
     ]
    }
   ],
   "source": [
    "## return total bumber of even number between a given range and sum of these number\n",
    "def total_num_of_even_and_sum(first_num,last_num):\n",
    "    count = 0\n",
    "    sum = 0\n",
    "    if first_num % 2 != 0:\n",
    "        first_num +=1\n",
    "    while first_num <= last_num:   \n",
    "        count +=1\n",
    "        sum += first_num\n",
    "        first_num +=2\n",
    "    print(\"total number of even number within the given range is {}\".format(count))\n",
    "    print(\"sum of those number is\",sum)\n",
    "    \n",
    "    return \n",
    "\n",
    "print(total_num_of_even_and_sum(2,14))"
   ]
  },
  {
   "cell_type": "code",
   "execution_count": 29,
   "metadata": {},
   "outputs": [
    {
     "name": "stdout",
     "output_type": "stream",
     "text": [
      "*\n",
      "**\n",
      "***\n",
      "****\n",
      "*****\n"
     ]
    }
   ],
   "source": [
    "'''pattern - using data structure\n",
    "\n",
    "'''\n",
    "input_1 = int(input())\n",
    "def making_data_structure(n):\n",
    "  return range(1,n+1)\n",
    "\n",
    "def pattern(making_data_structure,char):\n",
    "  for x in making_data_structure:\n",
    "    print(char*x)\n",
    "  \n",
    "\n",
    "pattern(making_data_structure(input_1),\"*\")"
   ]
  },
  {
   "cell_type": "code",
   "execution_count": 32,
   "metadata": {},
   "outputs": [
    {
     "name": "stdout",
     "output_type": "stream",
     "text": [
      "    1\n",
      "   12\n",
      "  123\n",
      " 1234\n",
      "12345\n"
     ]
    }
   ],
   "source": [
    "'''pattern-\n",
    "number = 5\n",
    "    1\n",
    "   12\n",
    "  123\n",
    " 1234\n",
    "12345\n",
    "'''\n",
    "number = int(input())\n",
    "\n",
    "for i in range(1,number+1):\n",
    "    print(\" \"*(number-i),end=\"\")\n",
    "    for j in range(1,i+1):\n",
    "        print(j, end=\"\")\n",
    "    print()"
   ]
  },
  {
   "cell_type": "code",
   "execution_count": 33,
   "metadata": {},
   "outputs": [
    {
     "name": "stdout",
     "output_type": "stream",
     "text": [
      "           1 \n",
      "         1 2 1 \n",
      "       1 2 3 2 1 \n",
      "     1 2 3 4 3 2 1 \n",
      "   1 2 3 4 5 4 3 2 1 \n",
      " 1 2 3 4 5 6 5 4 3 2 1 \n"
     ]
    }
   ],
   "source": [
    "'''pattern - \n",
    "number = 5\n",
    "         1 \n",
    "       1 2 1\n",
    "     1 2 3 2 1\n",
    "   1 2 3 4 3 2 1\n",
    " 1 2 3 4 5 4 3 2 1\n",
    "'''\n",
    "number = int(input())\n",
    "\n",
    "for i in range(1,number+1):\n",
    "    print(\" \"*(number - i)*2,end = \" \")\n",
    "    for j in range(1,i+1):\n",
    "        print(j,end = \" \")\n",
    "    for k in range(i-1,0,-1):\n",
    "        print(k,end = \" \")\n",
    "    print()"
   ]
  },
  {
   "cell_type": "code",
   "execution_count": null,
   "metadata": {},
   "outputs": [],
   "source": []
  }
 ],
 "metadata": {
  "kernelspec": {
   "display_name": "learn",
   "language": "python",
   "name": "python3"
  },
  "language_info": {
   "codemirror_mode": {
    "name": "ipython",
    "version": 3
   },
   "file_extension": ".py",
   "mimetype": "text/x-python",
   "name": "python",
   "nbconvert_exporter": "python",
   "pygments_lexer": "ipython3",
   "version": "3.8.18"
  }
 },
 "nbformat": 4,
 "nbformat_minor": 2
}
