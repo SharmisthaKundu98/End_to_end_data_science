{
 "cells": [
  {
   "cell_type": "markdown",
   "metadata": {},
   "source": [
    "# Day 22:\n",
    "\n",
    "## Topics:\n",
    "1. Central tendency\n",
    "2. Covariance, Correlation"
   ]
  },
  {
   "cell_type": "markdown",
   "metadata": {},
   "source": [
    "# Central tendency-\n",
    "\n",
    "The measure of central tendency is the descriptive statistics that describes the average or typical value of the set of observation/events/data.\n",
    "\n",
    "eg- age of india population,\n",
    "placement stats of college\n",
    "\n",
    "- mean \n",
    "- median\n",
    "- mode\n",
    "- S.D\n",
    "- variance"
   ]
  },
  {
   "cell_type": "markdown",
   "metadata": {},
   "source": [
    "## Mean:\n",
    "Mean is - arithmetic avg of all observation\n",
    "\n",
    "mean of sample: x, X\n",
    "mean of population: µ\n",
    "- mean = (sum of observations)/ (total number of observations)\n",
    "- `µ = (∑Xi)/N`"
   ]
  },
  {
   "cell_type": "markdown",
   "metadata": {},
   "source": [
    "## Median: 50th percentile\n",
    "- middle value"
   ]
  },
  {
   "cell_type": "markdown",
   "metadata": {},
   "source": [
    "### +ve Skewness and -Ve Skewness-\n",
    "\n",
    "mean = 3.75\n",
    "median = 50% percentile = 4.69\n",
    "then it's -ve skewness. because there are some value available which are very less than other.\n",
    "\n",
    "eg- 2,30,40,50,60 -- 2 is very less than the other value. so it's -ve skewness."
   ]
  },
  {
   "cell_type": "markdown",
   "metadata": {},
   "source": [
    "## Mode:\n",
    "- most occuring value/ most frequent value\n",
    "- used mainly for categorical value"
   ]
  },
  {
   "cell_type": "markdown",
   "metadata": {},
   "source": [
    "## Variance (how far each point from mean)"
   ]
  },
  {
   "cell_type": "markdown",
   "metadata": {},
   "source": [
    "- Variance measures How far a set of values are spread out from their Mean.\n",
    "- |Xi - Xmean| = diff b/w each point and mean,\n",
    "- N = total num of values in the set\n",
    "- `Variance = ∑|Xi -Xmean|^2 /N`\n",
    "\n",
    "- In our data,there should more variance because `high variance data means high information`."
   ]
  },
  {
   "cell_type": "markdown",
   "metadata": {},
   "source": [
    "## S.D (Standard Deviation)\n",
    "- how much data deviate from mean\n",
    "- `S.D = square root of variance`\n",
    "\n",
    "- sigma `σ = √(∑(xi−xmean)^2 /n)`\n",
    "- `low sigma` - data points are closed to mean\n",
    "- `high sigma` - data points are spread away from mean"
   ]
  },
  {
   "cell_type": "markdown",
   "metadata": {},
   "source": [
    "## Covariance -\n",
    "- Covariance of two variables X and Y in data sample --- measures how much 2 variables are `linearly related` or `changed` together.\n",
    "\n",
    "- `Cov(X,Y)=  ∑(Xi−Xmean)(Yi−Ymean) /N `\n",
    "\n",
    "Cov(X, Y) = Σ(Xi-µ)(Yj-v) /N\n",
    "\n",
    "\n",
    "\n",
    "#### Multi- collinearity "
   ]
  },
  {
   "cell_type": "markdown",
   "metadata": {},
   "source": [
    "## Correlation -\n",
    "- `Corr(X,Y) = Cov[X,Y] / ( StdDev(X) ∙ StdDev(Y) )`\n",
    "- scaled down version of covariance\n",
    "-  +ve correlation = X is increasing and Y is increasing\n",
    "- -ve correlation = X is increasing and Y is decreasing\n"
   ]
  },
  {
   "cell_type": "markdown",
   "metadata": {},
   "source": []
  }
 ],
 "metadata": {
  "kernelspec": {
   "display_name": "Python 3 (ipykernel)",
   "language": "python",
   "name": "python3"
  },
  "language_info": {
   "codemirror_mode": {
    "name": "ipython",
    "version": 3
   },
   "file_extension": ".py",
   "mimetype": "text/x-python",
   "name": "python",
   "nbconvert_exporter": "python",
   "pygments_lexer": "ipython3",
   "version": "3.8.15"
  }
 },
 "nbformat": 4,
 "nbformat_minor": 4
}
