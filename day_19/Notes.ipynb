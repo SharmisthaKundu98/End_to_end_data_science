{
 "cells": [
  {
   "cell_type": "markdown",
   "metadata": {},
   "source": [
    "# Day 19\n",
    "## Topics\n",
    "1. http methods\n",
    "2. project set up basics - templates,static,app.py,requirement.txt\n",
    "3. Postman "
   ]
  },
  {
   "cell_type": "markdown",
   "metadata": {},
   "source": [
    "## Http methods:\n",
    "1. GET - to get data from an web server using the specifying parameters in the URL portion of the request..\n",
    "2. POST - to send data to server. eg- creating a new user giving the user_id and all details.\n",
    "3. DELETE - to delete existing data. eg- delete a existing user id.\n",
    "4. PUT - is used to update or replace an existing resource on the server. eg- Updating a user's educational details.\n",
    "5. PATCH - Similar to PUT, PATCH updates a resource, but it updates data partially and not entirely. eg- only update user's name."
   ]
  },
  {
   "cell_type": "markdown",
   "metadata": {},
   "source": [
    "## Project set up:\n",
    "\n",
    "### Serving static file in Flask:\n",
    "`static` -\n",
    "\n",
    "#### Serving HTML files using Flask:\n",
    "just create a templates folder in the project root directory and create the HTML files, as `templates/index.html`. \n",
    "\n",
    "- index.html (html for homepage) \n",
    "- result.html (html for final result page)\n",
    "\n",
    "In `app.py` we render the HTML file when we run it, we are using the `render_template()` function provided by `Flask` to render the HTML file. "
   ]
  },
  {
   "cell_type": "markdown",
   "metadata": {},
   "source": [
    "Output:\n",
    "##### The Flask is up and running on localhost port http://127.0.0.1:5000/"
   ]
  },
  {
   "cell_type": "markdown",
   "metadata": {},
   "source": [
    "#### Serve CSS file in Flask -\n",
    "- just create a `static` folder in the project root directory and inside it create `css` folder, then add all css files like `/static/css/style.css`.\n",
    "- Now, let us link it with the HTML template file using the `link tag` referring to the CSS file in the static folder.\n",
    "eg -"
   ]
  },
  {
   "cell_type": "code",
   "execution_count": 1,
   "metadata": {},
   "outputs": [],
   "source": [
    "# <link rel=\"stylesheet\" href=\"/static/css/style.css\">"
   ]
  },
  {
   "cell_type": "markdown",
   "metadata": {},
   "source": [
    "## \"Postman\" -\n",
    "Postman is an API (Application Programming Interface) development tool which helps to build, test and modify APIs.\n",
    "\n",
    "- It is an application/tools that allows the testing of web APIs. \n",
    "\n",
    "- It is used as a client system.\n"
   ]
  },
  {
   "cell_type": "markdown",
   "metadata": {},
   "source": [
    "we use `jsonify`() function provided by Flask to get the final result into a `json` format.\n",
    "otherwise we can use `form`() function to get the result in `form_data`."
   ]
  },
  {
   "cell_type": "markdown",
   "metadata": {},
   "source": []
  }
 ],
 "metadata": {
  "kernelspec": {
   "display_name": "learn",
   "language": "python",
   "name": "python3"
  },
  "language_info": {
   "codemirror_mode": {
    "name": "ipython",
    "version": 3
   },
   "file_extension": ".py",
   "mimetype": "text/x-python",
   "name": "python",
   "nbconvert_exporter": "python",
   "pygments_lexer": "ipython3",
   "version": "3.8.18"
  }
 },
 "nbformat": 4,
 "nbformat_minor": 2
}
