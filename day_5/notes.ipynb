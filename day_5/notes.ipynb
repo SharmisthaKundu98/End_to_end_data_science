{
 "cells": [
  {
   "cell_type": "markdown",
   "metadata": {},
   "source": [
    "# day-5"
   ]
  },
  {
   "cell_type": "markdown",
   "metadata": {},
   "source": [
    "## Topic-\n",
    "1. generator Function \n",
    "2. map function"
   ]
  },
  {
   "cell_type": "markdown",
   "metadata": {},
   "source": [
    "### Generator Function\n",
    "* A ``generator function`` is defined like a normal function, but it uses the ``yield`` keyword instead of the ``keyword`` to produce values.\n",
    "* It returns a `generator object` that can be iterated over using a `for` loop or the `next() `function.\n",
    "\n",
    "\n",
    "\n",
    "* When a generator function is called, it does not execute the function body immediately, but only creates a generator object.\n",
    "* When the generator object is iterated over, the function body is executed until a yield statement is encountered, which pauses the function and returns the yielded value.\n",
    "* When the function is resumed, it continues from where it left off, until it reaches another yield statement or the end of the function."
   ]
  },
  {
   "cell_type": "code",
   "execution_count": null,
   "metadata": {},
   "outputs": [],
   "source": [
    "def generator_name(arg):\n",
    "    # statements\n",
    "    yield arg"
   ]
  },
  {
   "cell_type": "markdown",
   "metadata": {},
   "source": [
    "You can also create a generator object using a `generator expression`, which is a concise way to write a generator function using a similar syntax as a `list comprehension`. \n",
    "For example,\n",
    "\n",
    "> (expression for item in iterable)"
   ]
  },
  {
   "cell_type": "code",
   "execution_count": 1,
   "metadata": {},
   "outputs": [],
   "source": [
    "squares = (i**2 for i in range(5))"
   ]
  },
  {
   "cell_type": "markdown",
   "metadata": {},
   "source": [
    "## map() function "
   ]
  },
  {
   "cell_type": "markdown",
   "metadata": {},
   "source": [
    "``map`` function basically do mapping a iterable object's each and every elements with operations.\n",
    "\n",
    "* if we want to use these block of code in one line,then we can use map() function\n",
    "\n",
    "* map() it will map all the elements of the iterble,\n",
    "and do some operation and return a map() object\n",
    "\n",
    "* ``map(func, *iterables) --> map object``\n",
    "\n",
    "* Make an iterator that computes the function using arguments from each of the iterables. Stops when the shortest iterable is exhausted."
   ]
  },
  {
   "cell_type": "markdown",
   "metadata": {},
   "source": [
    "## reduce()"
   ]
  },
  {
   "cell_type": "markdown",
   "metadata": {},
   "source": [
    "reduce() generally reduce the itrable.\n",
    "*  reduce() always take max 2 arguments\n",
    "\n",
    ">from functools import reduce\n",
    "\n",
    ">reduce(func, sequence,initial)"
   ]
  },
  {
   "cell_type": "markdown",
   "metadata": {},
   "source": [
    "## filter() function"
   ]
  },
  {
   "cell_type": "markdown",
   "metadata": {},
   "source": [
    "filter() use to filter the list or sequence based on condition."
   ]
  },
  {
   "cell_type": "markdown",
   "metadata": {},
   "source": [
    "filter(conditional_function , sequence)"
   ]
  }
 ],
 "metadata": {
  "kernelspec": {
   "display_name": "learn",
   "language": "python",
   "name": "python3"
  },
  "language_info": {
   "codemirror_mode": {
    "name": "ipython",
    "version": 3
   },
   "file_extension": ".py",
   "mimetype": "text/x-python",
   "name": "python",
   "nbconvert_exporter": "python",
   "pygments_lexer": "ipython3",
   "version": "3.8.18"
  }
 },
 "nbformat": 4,
 "nbformat_minor": 2
}
