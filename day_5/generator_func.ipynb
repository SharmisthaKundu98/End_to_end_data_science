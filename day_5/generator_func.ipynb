{
 "cells": [
  {
   "cell_type": "markdown",
   "metadata": {},
   "source": [
    "# generator Function"
   ]
  },
  {
   "cell_type": "code",
   "execution_count": 1,
   "metadata": {},
   "outputs": [
    {
     "name": "stdout",
     "output_type": "stream",
     "text": [
      "1\n",
      "2\n",
      "3\n",
      "4\n",
      "5\n",
      "6\n",
      "7\n",
      "8\n",
      "9\n"
     ]
    }
   ],
   "source": [
    "for i in range(1,10):\n",
    "    print(i)"
   ]
  },
  {
   "cell_type": "code",
   "execution_count": 2,
   "metadata": {},
   "outputs": [],
   "source": [
    "l = [1,2,3,4,4,5,6,7,8,7,\"sharmi\", \"ineuron\"]"
   ]
  },
  {
   "cell_type": "code",
   "execution_count": 3,
   "metadata": {},
   "outputs": [
    {
     "data": {
      "text/plain": [
       "[1, 2, 3, 4, 4, 5, 6, 7, 8, 7]"
      ]
     },
     "execution_count": 3,
     "metadata": {},
     "output_type": "execute_result"
    }
   ],
   "source": [
    "# a function that will take a list as an input and \n",
    "# return only integer value of the given list in a new list.\n",
    "def test1(a) :\n",
    "    \"\"\"return a list of only integer value of the given list\"\"\"\n",
    "    n = []\n",
    "    for i in a : \n",
    "        if type(i) == int :\n",
    "            n.append(i)\n",
    "    return n\n",
    "test1(l)"
   ]
  },
  {
   "cell_type": "code",
   "execution_count": 4,
   "metadata": {},
   "outputs": [],
   "source": [
    "# generator function\n",
    "def my_generator(n):\n",
    "    i = 0\n",
    "    while i < n:\n",
    "        # yield the current value of the counter\n",
    "        yield i\n",
    "        # increment the counter\n",
    "        i += 1"
   ]
  },
  {
   "cell_type": "code",
   "execution_count": 5,
   "metadata": {},
   "outputs": [
    {
     "data": {
      "text/plain": [
       "<generator object my_generator at 0x0000026FEEBCF040>"
      ]
     },
     "execution_count": 5,
     "metadata": {},
     "output_type": "execute_result"
    }
   ],
   "source": [
    "my_generator(10) #generator object"
   ]
  },
  {
   "cell_type": "code",
   "execution_count": 6,
   "metadata": {},
   "outputs": [
    {
     "name": "stdout",
     "output_type": "stream",
     "text": [
      "0\n",
      "1\n",
      "2\n",
      "3\n",
      "4\n",
      "5\n",
      "6\n",
      "7\n",
      "8\n",
      "9\n"
     ]
    }
   ],
   "source": [
    "# When the generator object is iterated over, \n",
    "# the function body is executed until a yield statement is encountered,\n",
    "# which pauses the function and returns the yielded value.\n",
    "for i in my_generator(10):\n",
    "    print(i)"
   ]
  },
  {
   "cell_type": "markdown",
   "metadata": {},
   "source": [
    "Fibonacci number :\n",
    "    \n",
    "    0 ,1 ,1,2,3,5,8,13,21,34"
   ]
  },
  {
   "cell_type": "code",
   "execution_count": 7,
   "metadata": {},
   "outputs": [],
   "source": [
    "#create a function that will return n fibbonaccy.\n",
    "def get_fibbonaccy_num(number):\n",
    "    \"\"\"return n fibbonaccy numbers \"\"\"\n",
    "    a,b = 0,1\n",
    "    print(a)\n",
    "    print(b)\n",
    "    for i in range(number-2):\n",
    "        c = a+b #1\n",
    "        print(c)\n",
    "        a = b #1\n",
    "        b = c #1\n",
    "    return "
   ]
  },
  {
   "cell_type": "code",
   "execution_count": 8,
   "metadata": {},
   "outputs": [
    {
     "name": "stdout",
     "output_type": "stream",
     "text": [
      "0\n",
      "1\n",
      "1\n",
      "2\n",
      "3\n",
      "5\n",
      "8\n",
      "13\n",
      "21\n",
      "34\n"
     ]
    }
   ],
   "source": [
    "get_fibbonaccy_num(10)"
   ]
  },
  {
   "cell_type": "code",
   "execution_count": 9,
   "metadata": {},
   "outputs": [
    {
     "name": "stdout",
     "output_type": "stream",
     "text": [
      "<generator object get_fib at 0x0000026FEEBCFAC0>\n",
      "0\n",
      "1\n",
      "1\n",
      "2\n",
      "3\n",
      "5\n",
      "8\n",
      "13\n",
      "21\n",
      "34\n"
     ]
    }
   ],
   "source": [
    "# using generator function\n",
    "\n",
    "def get_fib(n) :\n",
    "    \"\"\" return n fibbonaccy numbers using generator function\"\"\"\n",
    "    a,b = 0,1\n",
    "    for i in range(n):\n",
    "        yield a \n",
    "        a,b = b ,a+b\n",
    "     \n",
    "# generator object\n",
    "gen = get_fib(10)\n",
    "print(gen)\n",
    "\n",
    "for i in gen : \n",
    "    print(i)"
   ]
  },
  {
   "cell_type": "code",
   "execution_count": 10,
   "metadata": {},
   "outputs": [],
   "source": [
    "# create a generator object using a generator expression, \n",
    "# which is a concise way to write a generator function using a similar syntax as a list comprehension.\n",
    "\n",
    "squares = (i**2 for i in range(5))"
   ]
  },
  {
   "cell_type": "code",
   "execution_count": null,
   "metadata": {},
   "outputs": [],
   "source": []
  }
 ],
 "metadata": {
  "kernelspec": {
   "display_name": "learn",
   "language": "python",
   "name": "python3"
  },
  "language_info": {
   "codemirror_mode": {
    "name": "ipython",
    "version": 3
   },
   "file_extension": ".py",
   "mimetype": "text/x-python",
   "name": "python",
   "nbconvert_exporter": "python",
   "pygments_lexer": "ipython3",
   "version": "3.8.18"
  }
 },
 "nbformat": 4,
 "nbformat_minor": 2
}
