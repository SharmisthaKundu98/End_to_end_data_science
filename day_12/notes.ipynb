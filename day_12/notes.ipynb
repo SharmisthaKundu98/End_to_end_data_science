{
 "cells": [
  {
   "cell_type": "markdown",
   "metadata": {},
   "source": [
    "# day 11\n",
    "\n",
    "## topics:\n",
    "1. logging in python\n",
    "2. modules and import statements"
   ]
  },
  {
   "cell_type": "markdown",
   "metadata": {},
   "source": [
    "# Logging"
   ]
  },
  {
   "cell_type": "markdown",
   "metadata": {},
   "source": [
    "We usually use whenever we execute s program like python files. we can see the activities of my programs /code.\n",
    "\n",
    "- used for tracking events that happen when a program runs.\n",
    "\n",
    "- without logging , if your program crashes and in console it's only showing some error, that time you can't detect the cause. Evenif You detect, It will take a lots of time, So with logging, if something happen wrong, we can determine the cause of problems.\n",
    "\n",
    "- 5 built-in levels of log message - \n",
    "    1. Debug\n",
    "    2. info\n",
    "    3. warning\n",
    "    4. error\n",
    "    5. critical"
   ]
  },
  {
   "cell_type": "markdown",
   "metadata": {},
   "source": [
    "# Modules and import statements\n",
    "\n",
    "modules are individual Python files, while packages are directories containing multiple modules."
   ]
  },
  {
   "cell_type": "markdown",
   "metadata": {},
   "source": [
    "### Modules: \n",
    "- A module is essentially a `single Python file`. Its name corresponds to the file’s base name without the `.py` extension.\n",
    "- Modules encapsulate related code, functions, and classes.\n",
    "- You can import and execute modules directly.\n",
    "For instance, if you have a file named `my_module.py`, it qualifies as a module."
   ]
  },
  {
   "cell_type": "markdown",
   "metadata": {},
   "source": [
    "### Packages: (directory)\n",
    "A package is a c`ollection of Python modules grouped together`.\n",
    "Unlike modules, packages are directories containing an additional __init__.py file.\n",
    "The __init__.py file distinguishes a package from a regular directory that happens to contain Python scripts."
   ]
  },
  {
   "cell_type": "markdown",
   "metadata": {},
   "source": []
  }
 ],
 "metadata": {
  "kernelspec": {
   "display_name": "learn",
   "language": "python",
   "name": "python3"
  },
  "language_info": {
   "codemirror_mode": {
    "name": "ipython",
    "version": 3
   },
   "file_extension": ".py",
   "mimetype": "text/x-python",
   "name": "python",
   "nbconvert_exporter": "python",
   "pygments_lexer": "ipython3",
   "version": "3.8.18"
  }
 },
 "nbformat": 4,
 "nbformat_minor": 2
}
