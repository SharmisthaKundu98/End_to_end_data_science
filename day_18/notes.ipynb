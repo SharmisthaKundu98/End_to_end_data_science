{
 "cells": [
  {
   "cell_type": "markdown",
   "metadata": {},
   "source": [
    "# day - 18\n",
    "\n",
    "## Topics:\n",
    "1. Flask Introduction\n",
    "2. creating an Application using Flask\n",
    "3. Open link Flask\n",
    "4. App routing Flask\n",
    "5. URL building Flask"
   ]
  },
  {
   "cell_type": "markdown",
   "metadata": {},
   "source": [
    "## Flask\n",
    "Flask is a web framework that allows developers to build lightweight web applications quickly and easily with Flask Libraries."
   ]
  },
  {
   "cell_type": "markdown",
   "metadata": {},
   "source": [
    "example- a server computer and a client computer\n",
    "suppose my client computer is going to access my server computer. I have exposed a function through an API to the outer world.everyone has access to it."
   ]
  },
  {
   "cell_type": "markdown",
   "metadata": {},
   "source": [
    "### Creating an Application Using Flask API"
   ]
  },
  {
   "cell_type": "code",
   "execution_count": 1,
   "metadata": {},
   "outputs": [
    {
     "data": {
      "text/plain": [
       "'\\nfrom flask import Flask,request\\n\\napp = Flask(__name__)\\n\\n@app.route(\"/\")\\ndef hello_world():\\n    return \"Hello World\"\\n\\n@app.route(\"/hello1\")\\ndef hello_world1():\\n    return \"Hello World!1\"\\n\\n##URL building\\n@app.route(\"/search\")\\ndef request_input():\\n    data = request.args.get(\"query\")\\n    return \"this is my query from url is :{}\".format(data)\\n\\nif __name__==\"__main__\":\\n    app.run(host=\"0.0.0.0\")\\n'"
      ]
     },
     "execution_count": 1,
     "metadata": {},
     "output_type": "execute_result"
    }
   ],
   "source": [
    "'''\n",
    "from flask import Flask,request\n",
    "\n",
    "app = Flask(__name__)\n",
    "\n",
    "@app.route(\"/\")\n",
    "def hello_world():\n",
    "    return \"Hello World\"\n",
    "\n",
    "@app.route(\"/hello1\")\n",
    "def hello_world1():\n",
    "    return \"Hello World!1\"\n",
    "\n",
    "##URL building\n",
    "@app.route(\"/search\")\n",
    "def request_input():\n",
    "    data = request.args.get(\"query\")\n",
    "    return \"this is my query from url is :{}\".format(data)\n",
    "\n",
    "if __name__==\"__main__\":\n",
    "    app.run(host=\"0.0.0.0\")\n",
    "'''"
   ]
  },
  {
   "cell_type": "markdown",
   "metadata": {},
   "source": [
    "```@app.route(\"/\")```: This line is a decorator that associates a function with a specific URL path. In this case, the ```@app.route(\"/\")``` decorator tells ```Flask``` that the function ```hello_world``` should be executed whenever a user requests the root URL (usually http://localhost:5000/).\n",
    "\n",
    "``def hello_world():``: This defines a function called hello_world. This function will be responsible for generating the response to the user's request.\n",
    "\n",
    "``return \"Hello World\"``: This line returns the string \"Hello World\" as the response from the hello_world function. Flask will render this string in the user's web browser.\n",
    "\n",
    "```if __name__ == \"__main__\":```: This block of code ensures that the following code (app.run()) only runs when the script is executed directly (not imported as a module).\n",
    "\n",
    "```app.run(host=\"0.0.0.0\")```: This line starts the `Flask development server`. By default, it runs on http://localhost:5000/. The host=\"0.0.0.0\" argument specifies that the server listens on all network interfaces, making it accessible from other machines on your network (not just localhost)."
   ]
  },
  {
   "cell_type": "markdown",
   "metadata": {},
   "source": [
    "Open a web browser and navigate to the URL http://localhost:5000/ displayed in the terminal . You should see \"Hello World\" displayed in the browser window.\n",
    "\n",
    "### app routing\n",
    "if want to access the other route \"/hello1\", then,\n",
    "http://localhost:5000/hello1\n",
    "\n",
    "\n",
    "### URL building \n",
    "if want to search any query then ,\n",
    "http://localhost:5000/search?query= then type the requirement. \n"
   ]
  },
  {
   "cell_type": "markdown",
   "metadata": {},
   "source": []
  }
 ],
 "metadata": {
  "kernelspec": {
   "display_name": "learn",
   "language": "python",
   "name": "python3"
  },
  "language_info": {
   "codemirror_mode": {
    "name": "ipython",
    "version": 3
   },
   "file_extension": ".py",
   "mimetype": "text/x-python",
   "name": "python",
   "nbconvert_exporter": "python",
   "pygments_lexer": "ipython3",
   "version": "3.8.18"
  }
 },
 "nbformat": 4,
 "nbformat_minor": 2
}
