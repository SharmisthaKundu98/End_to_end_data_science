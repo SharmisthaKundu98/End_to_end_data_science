{
 "cells": [
  {
   "cell_type": "markdown",
   "metadata": {},
   "source": [
    "# day 16\n",
    "\n",
    "# Topics -\n",
    "1. NoSQL Database\n",
    "2. SQL vs NoSQL\n",
    "3. MongoDb Basics\n",
    "4. MongoDb setup\n",
    "5. Connect to server and queries\n",
    "\n"
   ]
  },
  {
   "cell_type": "markdown",
   "metadata": {},
   "source": [
    "## NoSQL Database\n",
    "`NoSQL` is a type of database management system (`DBMS`) that is designed to handle and store large volumes of unstructured and semi-structured data. Unlike traditional relational databases that use tables with pre-defined schemas to store data, NoSQL databases use flexible data models that can adapt to changes in data structures and are capable of scaling horizontally to handle growing amounts of data.\n",
    "\n",
    "* In NoSQL database, collections(like tables in SQL database)"
   ]
  },
  {
   "cell_type": "markdown",
   "metadata": {},
   "source": [
    "### SQL vs NoSQL\n",
    "- SQL databases are vertically scalable, while NoSQL databases are horizontally scalable. \n",
    "- SQL databases are table-based, while NoSQL databases are document, key-value, graph, or wide-column stores. \n",
    "- SQL databases are better for multi-row transactions, while NoSQL is better for unstructured data like documents or JSON."
   ]
  },
  {
   "cell_type": "markdown",
   "metadata": {},
   "source": [
    "## MongoDb -\n",
    "\n",
    "\n",
    "- `MongoDB` is a popular `NoSQL` database that stores data in a flexible, JSON-like format known as BSON (Binary JSON). It is designed to handle large volumes of unstructured or semi-structured data.\n",
    "\n",
    "- document based database"
   ]
  },
  {
   "cell_type": "markdown",
   "metadata": {},
   "source": [
    "## Different types of MongoDb tools -\n",
    "\n",
    "1. ``MongoDB Shell (mongo)``: This is the primary command-line interface for interacting with MongoDB.\n",
    "\n",
    "2. ``MongoDB Compass``: MongoDB Compass is a graphical user interface (GUI) tool that provides a visual way to explore and manipulate MongoDB data. It offers features such as query building, schema visualization, index management, and performance monitoring.\n",
    "    - (visualization tool)\n",
    "    \n",
    "3. ``MongoDB Atlas:`` MongoDB Atlas is a fully managed cloud database service provided by MongoDB. It allows users to deploy, manage, and scale MongoDB databases in the cloud without the need for manual infrastructure management. \n",
    "    - (MongoDb hosted online server)"
   ]
  },
  {
   "cell_type": "markdown",
   "metadata": {},
   "source": [
    "## MongoDb setup - Installations and Connect to server"
   ]
  },
  {
   "cell_type": "markdown",
   "metadata": {},
   "source": [
    "#### 1. install MongoDb service \n",
    "#### 2. setup the service and host a server (localhost)\n",
    "#### 3. You must open the command interpreter as an `Administrator`. \n",
    "\n",
    "eg- (Gitbash run as `Administrator`)\n",
    "\n",
    "here, we can start and stop the server-\n",
    "\n",
    "- `'''net start MongoDB'''`\n",
    "- `'''net stop MongoDB'''`\n",
    "    \n",
    "#### 4. install `MongoDb compass` to visualize (optional)\n",
    "- new connection (connection string)\n",
    "- we can see there are 3 default database -\n",
    "   1. admin\n",
    "   2. congig\n",
    "   3. local\n",
    "- now we can create our own database. \n"
   ]
  },
  {
   "cell_type": "markdown",
   "metadata": {},
   "source": [
    "#### Connect MongoDb server using python\n",
    "- Python Driver - `pymongo`\n",
    "\n",
    "\n",
    "- create a client object connected to server,\n",
    "\n",
    "    - `client = pymongo.MongoClient('connection string')`\n",
    "\n",
    "\n",
    " now you are connected to server\n",
    "\n"
   ]
  },
  {
   "cell_type": "markdown",
   "metadata": {},
   "source": [
    "#### create database \n",
    "`db = client['ineuron']` # database name - ineuron"
   ]
  },
  {
   "cell_type": "markdown",
   "metadata": {},
   "source": [
    "#### create collection (same as table in SQL db)\n",
    "`collection = db[\"my_record\"]`"
   ]
  },
  {
   "cell_type": "markdown",
   "metadata": {},
   "source": [
    "##### one line is one documents \n",
    "`data = {'a':1,'b':2}`\n",
    "\n",
    "#### insert into collection\n",
    "`collection.insert_one(data)`"
   ]
  },
  {
   "cell_type": "markdown",
   "metadata": {},
   "source": [
    "#### list of documents\n",
    "\n",
    "`data1 = [\n",
    "  { \"name\": \"Amy\", \"address\": \"Apple st 652\" },\n",
    "  { \"name\": \"Hannah\", \"address\": \"Mountain 21\" },\n",
    "  { \"name\": \"Michael\", \"address\": \"Valley 345\" },\n",
    "  { \"name\": \"Sandy\", \"address\": \"Ocean blvd 2\" },\n",
    "  { \"name\": \"Betty\", \"address\": \"Green Grass 1\" },\n",
    "  { \"name\": \"Richard\", \"address\": \"Sky st 331\" },\n",
    "  { \"name\": \"Susan\", \"address\": \"One way 98\" },\n",
    "  { \"name\": \"Vicky\", \"address\": \"Yellow Garden 2\" },\n",
    "  { \"name\": \"Ben\", \"address\": \"Park Lane 38\" },\n",
    "  { \"name\": \"William\", \"address\": \"Central st 954\" },\n",
    "  { \"name\": \"Chuck\", \"address\": \"Main Road 989\" },\n",
    "  { \"name\": \"Viola\", \"address\": \"Sideway 1633\" }\n",
    "]`\n",
    "\n",
    "#### inserting many documents\n",
    "`collection.insert_many(data1)`"
   ]
  },
  {
   "cell_type": "markdown",
   "metadata": {},
   "source": [
    "#### find some documents( like finding some row or columns in SQL database)\n",
    "\n",
    "- selecting all documents\n",
    "`for i in coll_create.find():\n",
    "    print(i)`\n",
    "\n",
    "- selecting 1st document\n",
    "`collection.find_one()`\n",
    "\n",
    "- selecting specific documents \n",
    "`collection.find({\"name\": \"Amy\"})` \n"
   ]
  },
  {
   "cell_type": "markdown",
   "metadata": {},
   "source": [
    "### drop collection\n",
    "`collection.drop()`"
   ]
  },
  {
   "cell_type": "markdown",
   "metadata": {},
   "source": []
  }
 ],
 "metadata": {
  "kernelspec": {
   "display_name": "learn",
   "language": "python",
   "name": "python3"
  },
  "language_info": {
   "codemirror_mode": {
    "name": "ipython",
    "version": 3
   },
   "file_extension": ".py",
   "mimetype": "text/x-python",
   "name": "python",
   "nbconvert_exporter": "python",
   "pygments_lexer": "ipython3",
   "version": "3.8.18"
  }
 },
 "nbformat": 4,
 "nbformat_minor": 2
}
