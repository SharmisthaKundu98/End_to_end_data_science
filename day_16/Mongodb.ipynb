{
 "cells": [
  {
   "cell_type": "code",
   "execution_count": 3,
   "metadata": {},
   "outputs": [],
   "source": [
    "# python driver - pymongo\n",
    "# ! pip install pymongo # if pymongo is not install\n",
    "import pymongo"
   ]
  },
  {
   "cell_type": "code",
   "execution_count": 4,
   "metadata": {},
   "outputs": [],
   "source": [
    "# Create a client object connected to the MongoDB server\n",
    "client = pymongo.MongoClient('mongodb://localhost:27017/')\n",
    "\n",
    "# Now you're connected! You can start querying data."
   ]
  },
  {
   "cell_type": "code",
   "execution_count": 5,
   "metadata": {},
   "outputs": [
    {
     "data": {
      "text/plain": [
       "MongoClient(host=['localhost:27017'], document_class=dict, tz_aware=False, connect=True)"
      ]
     },
     "execution_count": 5,
     "metadata": {},
     "output_type": "execute_result"
    }
   ],
   "source": [
    "client"
   ]
  },
  {
   "cell_type": "code",
   "execution_count": 6,
   "metadata": {},
   "outputs": [],
   "source": [
    "client = pymongo.MongoClient('mongodb://localhost:27017/')"
   ]
  },
  {
   "cell_type": "code",
   "execution_count": 11,
   "metadata": {},
   "outputs": [],
   "source": [
    "# create database \n",
    "db = client['ineuron'] # database name - ineuron"
   ]
  },
  {
   "cell_type": "code",
   "execution_count": 12,
   "metadata": {},
   "outputs": [],
   "source": [
    "# create collection \n",
    "coll_create = db[\"my_record\"]"
   ]
  },
  {
   "cell_type": "code",
   "execution_count": 24,
   "metadata": {},
   "outputs": [],
   "source": [
    "# documents \n",
    "data = {'a':1,'b':2}"
   ]
  },
  {
   "cell_type": "code",
   "execution_count": 14,
   "metadata": {},
   "outputs": [
    {
     "data": {
      "text/plain": [
       "InsertOneResult(ObjectId('65de1b8c22fb144c0dcf5e7e'), acknowledged=True)"
      ]
     },
     "execution_count": 14,
     "metadata": {},
     "output_type": "execute_result"
    }
   ],
   "source": [
    "coll_create.insert_one(data)"
   ]
  },
  {
   "cell_type": "code",
   "execution_count": 15,
   "metadata": {},
   "outputs": [
    {
     "data": {
      "text/plain": [
       "['admin', 'config', 'ineuron', 'local', 'mydb']"
      ]
     },
     "execution_count": 15,
     "metadata": {},
     "output_type": "execute_result"
    }
   ],
   "source": [
    "client.list_database_names()"
   ]
  },
  {
   "cell_type": "code",
   "execution_count": 16,
   "metadata": {},
   "outputs": [],
   "source": [
    "# another document\n",
    "data1 = {\"name\" : \"sharmi\",\n",
    "        \"class\" : \"data science masters \",\n",
    "        \"timing \" : \"flexi\"\n",
    "}"
   ]
  },
  {
   "cell_type": "code",
   "execution_count": 20,
   "metadata": {},
   "outputs": [
    {
     "data": {
      "text/plain": [
       "InsertOneResult(ObjectId('65de1daa22fb144c0dcf5e7f'), acknowledged=True)"
      ]
     },
     "execution_count": 20,
     "metadata": {},
     "output_type": "execute_result"
    }
   ],
   "source": [
    "coll_create.insert_one(data1)"
   ]
  },
  {
   "cell_type": "code",
   "execution_count": 17,
   "metadata": {},
   "outputs": [],
   "source": [
    "# another document\n",
    "data2 = {\"list_course\" : [\"data science masters \" ,\"end-to-end-ml-project\" , \"machine learning bootcamp\"],\n",
    "        \"mentor\" : [\"sudhanshu\" , \"krish\" , \"anurag\", \"bapi\"]}"
   ]
  },
  {
   "cell_type": "code",
   "execution_count": 21,
   "metadata": {},
   "outputs": [
    {
     "data": {
      "text/plain": [
       "InsertOneResult(ObjectId('65de1db422fb144c0dcf5e80'), acknowledged=True)"
      ]
     },
     "execution_count": 21,
     "metadata": {},
     "output_type": "execute_result"
    }
   ],
   "source": [
    "coll_create.insert_one(data2)\n"
   ]
  },
  {
   "cell_type": "code",
   "execution_count": 19,
   "metadata": {},
   "outputs": [],
   "source": [
    "# list of documents\n",
    "data3 = [\n",
    "  { \"name\": \"Amy\", \"address\": \"Apple st 652\" },\n",
    "  { \"name\": \"Hannah\", \"address\": \"Mountain 21\" },\n",
    "  { \"name\": \"Michael\", \"address\": \"Valley 345\" },\n",
    "  { \"name\": \"Sandy\", \"address\": \"Ocean blvd 2\" },\n",
    "  { \"name\": \"Betty\", \"address\": \"Green Grass 1\" },\n",
    "  { \"name\": \"Richard\", \"address\": \"Sky st 331\" },\n",
    "  { \"name\": \"Susan\", \"address\": \"One way 98\" },\n",
    "  { \"name\": \"Vicky\", \"address\": \"Yellow Garden 2\" },\n",
    "  { \"name\": \"Ben\", \"address\": \"Park Lane 38\" },\n",
    "  { \"name\": \"William\", \"address\": \"Central st 954\" },\n",
    "  { \"name\": \"Chuck\", \"address\": \"Main Road 989\" },\n",
    "  { \"name\": \"Viola\", \"address\": \"Sideway 1633\" }\n",
    "]"
   ]
  },
  {
   "cell_type": "code",
   "execution_count": 23,
   "metadata": {},
   "outputs": [
    {
     "data": {
      "text/plain": [
       "InsertManyResult([ObjectId('65de1df122fb144c0dcf5e81'), ObjectId('65de1df122fb144c0dcf5e82'), ObjectId('65de1df122fb144c0dcf5e83'), ObjectId('65de1df122fb144c0dcf5e84'), ObjectId('65de1df122fb144c0dcf5e85'), ObjectId('65de1df122fb144c0dcf5e86'), ObjectId('65de1df122fb144c0dcf5e87'), ObjectId('65de1df122fb144c0dcf5e88'), ObjectId('65de1df122fb144c0dcf5e89'), ObjectId('65de1df122fb144c0dcf5e8a'), ObjectId('65de1df122fb144c0dcf5e8b'), ObjectId('65de1df122fb144c0dcf5e8c')], acknowledged=True)"
      ]
     },
     "execution_count": 23,
     "metadata": {},
     "output_type": "execute_result"
    }
   ],
   "source": [
    "coll_create.insert_many(data3)"
   ]
  },
  {
   "cell_type": "code",
   "execution_count": 25,
   "metadata": {},
   "outputs": [
    {
     "data": {
      "text/plain": [
       "<pymongo.cursor.Cursor at 0x1a8e7f5a2b0>"
      ]
     },
     "execution_count": 25,
     "metadata": {},
     "output_type": "execute_result"
    }
   ],
   "source": [
    "coll_create.find()"
   ]
  },
  {
   "cell_type": "code",
   "execution_count": 26,
   "metadata": {},
   "outputs": [
    {
     "name": "stdout",
     "output_type": "stream",
     "text": [
      "{'_id': ObjectId('65de1b8c22fb144c0dcf5e7e'), 'a': 1, 'b': 2}\n",
      "{'_id': ObjectId('65de1daa22fb144c0dcf5e7f'), 'name': 'sharmi', 'class': 'data science masters ', 'timing ': 'flexi'}\n",
      "{'_id': ObjectId('65de1db422fb144c0dcf5e80'), 'list_course': ['data science masters ', 'end-to-end-ml-project', 'machine learning bootcamp'], 'mentor': ['sudhanshu', 'krish', 'anurag', 'bapi']}\n",
      "{'_id': ObjectId('65de1df122fb144c0dcf5e81'), 'name': 'Amy', 'address': 'Apple st 652'}\n",
      "{'_id': ObjectId('65de1df122fb144c0dcf5e82'), 'name': 'Hannah', 'address': 'Mountain 21'}\n",
      "{'_id': ObjectId('65de1df122fb144c0dcf5e83'), 'name': 'Michael', 'address': 'Valley 345'}\n",
      "{'_id': ObjectId('65de1df122fb144c0dcf5e84'), 'name': 'Sandy', 'address': 'Ocean blvd 2'}\n",
      "{'_id': ObjectId('65de1df122fb144c0dcf5e85'), 'name': 'Betty', 'address': 'Green Grass 1'}\n",
      "{'_id': ObjectId('65de1df122fb144c0dcf5e86'), 'name': 'Richard', 'address': 'Sky st 331'}\n",
      "{'_id': ObjectId('65de1df122fb144c0dcf5e87'), 'name': 'Susan', 'address': 'One way 98'}\n",
      "{'_id': ObjectId('65de1df122fb144c0dcf5e88'), 'name': 'Vicky', 'address': 'Yellow Garden 2'}\n",
      "{'_id': ObjectId('65de1df122fb144c0dcf5e89'), 'name': 'Ben', 'address': 'Park Lane 38'}\n",
      "{'_id': ObjectId('65de1df122fb144c0dcf5e8a'), 'name': 'William', 'address': 'Central st 954'}\n",
      "{'_id': ObjectId('65de1df122fb144c0dcf5e8b'), 'name': 'Chuck', 'address': 'Main Road 989'}\n",
      "{'_id': ObjectId('65de1df122fb144c0dcf5e8c'), 'name': 'Viola', 'address': 'Sideway 1633'}\n"
     ]
    }
   ],
   "source": [
    "for i in coll_create.find():\n",
    "    print(i)"
   ]
  },
  {
   "cell_type": "code",
   "execution_count": 28,
   "metadata": {},
   "outputs": [],
   "source": [
    "list_of_records = [\n",
    "    {'companyName': 'iNeuron',\n",
    "     'product': 'Affordable AI',\n",
    "     'courseOffered': 'Machine Learning with Deployment'},\n",
    "    \n",
    "    {'companyName': 'iNeuron',\n",
    "     'product': 'Affordable AI',\n",
    "     'courseOffered': 'Deep Learning for NLP and Computer vision'},\n",
    "    \n",
    "    {'companyName': 'iNeuron',\n",
    "     'product': 'Master Program',\n",
    "     'courseOffered': 'Data Science Masters Program'}\n",
    "]"
   ]
  },
  {
   "cell_type": "code",
   "execution_count": 29,
   "metadata": {},
   "outputs": [
    {
     "data": {
      "text/plain": [
       "InsertManyResult([ObjectId('65de1f7a22fb144c0dcf5e8d'), ObjectId('65de1f7a22fb144c0dcf5e8e'), ObjectId('65de1f7a22fb144c0dcf5e8f')], acknowledged=True)"
      ]
     },
     "execution_count": 29,
     "metadata": {},
     "output_type": "execute_result"
    }
   ],
   "source": [
    "coll_create.insert_many(list_of_records)"
   ]
  },
  {
   "cell_type": "code",
   "execution_count": 32,
   "metadata": {},
   "outputs": [
    {
     "name": "stdout",
     "output_type": "stream",
     "text": [
      "{'_id': ObjectId('65de1b8c22fb144c0dcf5e7e'), 'a': 1, 'b': 2}\n",
      "{'_id': ObjectId('65de1daa22fb144c0dcf5e7f'), 'name': 'sharmi', 'class': 'data science masters ', 'timing ': 'flexi'}\n",
      "{'_id': ObjectId('65de1db422fb144c0dcf5e80'), 'list_course': ['data science masters ', 'end-to-end-ml-project', 'machine learning bootcamp'], 'mentor': ['sudhanshu', 'krish', 'anurag', 'bapi']}\n",
      "{'_id': ObjectId('65de1df122fb144c0dcf5e81'), 'name': 'Amy', 'address': 'Apple st 652'}\n",
      "{'_id': ObjectId('65de1df122fb144c0dcf5e82'), 'name': 'Hannah', 'address': 'Mountain 21'}\n",
      "{'_id': ObjectId('65de1df122fb144c0dcf5e83'), 'name': 'Michael', 'address': 'Valley 345'}\n",
      "{'_id': ObjectId('65de1df122fb144c0dcf5e84'), 'name': 'Sandy', 'address': 'Ocean blvd 2'}\n",
      "{'_id': ObjectId('65de1df122fb144c0dcf5e85'), 'name': 'Betty', 'address': 'Green Grass 1'}\n",
      "{'_id': ObjectId('65de1df122fb144c0dcf5e86'), 'name': 'Richard', 'address': 'Sky st 331'}\n",
      "{'_id': ObjectId('65de1df122fb144c0dcf5e87'), 'name': 'Susan', 'address': 'One way 98'}\n",
      "{'_id': ObjectId('65de1df122fb144c0dcf5e88'), 'name': 'Vicky', 'address': 'Yellow Garden 2'}\n",
      "{'_id': ObjectId('65de1df122fb144c0dcf5e89'), 'name': 'Ben', 'address': 'Park Lane 38'}\n",
      "{'_id': ObjectId('65de1df122fb144c0dcf5e8a'), 'name': 'William', 'address': 'Central st 954'}\n",
      "{'_id': ObjectId('65de1df122fb144c0dcf5e8b'), 'name': 'Chuck', 'address': 'Main Road 989'}\n",
      "{'_id': ObjectId('65de1df122fb144c0dcf5e8c'), 'name': 'Viola', 'address': 'Sideway 1633'}\n",
      "{'_id': ObjectId('65de1f7a22fb144c0dcf5e8d'), 'companyName': 'iNeuron', 'product': 'Affordable AI', 'courseOffered': 'Machine Learning with Deployment'}\n",
      "{'_id': ObjectId('65de1f7a22fb144c0dcf5e8e'), 'companyName': 'iNeuron', 'product': 'Affordable AI', 'courseOffered': 'Deep Learning for NLP and Computer vision'}\n",
      "{'_id': ObjectId('65de1f7a22fb144c0dcf5e8f'), 'companyName': 'iNeuron', 'product': 'Master Program', 'courseOffered': 'Data Science Masters Program'}\n"
     ]
    }
   ],
   "source": [
    "for i in coll_create.find():\n",
    "    print(i)"
   ]
  },
  {
   "cell_type": "code",
   "execution_count": 30,
   "metadata": {},
   "outputs": [
    {
     "data": {
      "text/plain": [
       "{'_id': ObjectId('65de1b8c22fb144c0dcf5e7e'), 'a': 1, 'b': 2}"
      ]
     },
     "execution_count": 30,
     "metadata": {},
     "output_type": "execute_result"
    }
   ],
   "source": [
    "coll_create.find_one()"
   ]
  },
  {
   "cell_type": "code",
   "execution_count": 31,
   "metadata": {},
   "outputs": [
    {
     "name": "stdout",
     "output_type": "stream",
     "text": [
      "{'_id': ObjectId('65de1f7a22fb144c0dcf5e8d'), 'companyName': 'iNeuron', 'product': 'Affordable AI', 'courseOffered': 'Machine Learning with Deployment'}\n",
      "{'_id': ObjectId('65de1f7a22fb144c0dcf5e8e'), 'companyName': 'iNeuron', 'product': 'Affordable AI', 'courseOffered': 'Deep Learning for NLP and Computer vision'}\n",
      "{'_id': ObjectId('65de1f7a22fb144c0dcf5e8f'), 'companyName': 'iNeuron', 'product': 'Master Program', 'courseOffered': 'Data Science Masters Program'}\n"
     ]
    }
   ],
   "source": [
    "for i in coll_create.find({'companyName': 'iNeuron'}):\n",
    "    print(i)"
   ]
  },
  {
   "cell_type": "code",
   "execution_count": 34,
   "metadata": {},
   "outputs": [],
   "source": [
    "# $gte - greater than equals to in mongodb\n",
    "for i in coll_create.find({'_id' : {'$gte' : '4'}}):\n",
    "    print(i)"
   ]
  },
  {
   "cell_type": "code",
   "execution_count": 35,
   "metadata": {},
   "outputs": [
    {
     "data": {
      "text/plain": [
       "UpdateResult({'n': 3, 'nModified': 3, 'ok': 1.0, 'updatedExisting': True}, acknowledged=True)"
      ]
     },
     "execution_count": 35,
     "metadata": {},
     "output_type": "execute_result"
    }
   ],
   "source": [
    "# updating \n",
    "coll_create.update_many({'companyName': 'iNeuron'} ,{\"$set\" :{'companyName': 'pwskills'}} )"
   ]
  },
  {
   "cell_type": "code",
   "execution_count": 36,
   "metadata": {},
   "outputs": [
    {
     "name": "stdout",
     "output_type": "stream",
     "text": [
      "{'_id': ObjectId('65de1b8c22fb144c0dcf5e7e'), 'a': 1, 'b': 2}\n",
      "{'_id': ObjectId('65de1daa22fb144c0dcf5e7f'), 'name': 'sharmi', 'class': 'data science masters ', 'timing ': 'flexi'}\n",
      "{'_id': ObjectId('65de1db422fb144c0dcf5e80'), 'list_course': ['data science masters ', 'end-to-end-ml-project', 'machine learning bootcamp'], 'mentor': ['sudhanshu', 'krish', 'anurag', 'bapi']}\n",
      "{'_id': ObjectId('65de1df122fb144c0dcf5e81'), 'name': 'Amy', 'address': 'Apple st 652'}\n",
      "{'_id': ObjectId('65de1df122fb144c0dcf5e82'), 'name': 'Hannah', 'address': 'Mountain 21'}\n",
      "{'_id': ObjectId('65de1df122fb144c0dcf5e83'), 'name': 'Michael', 'address': 'Valley 345'}\n",
      "{'_id': ObjectId('65de1df122fb144c0dcf5e84'), 'name': 'Sandy', 'address': 'Ocean blvd 2'}\n",
      "{'_id': ObjectId('65de1df122fb144c0dcf5e85'), 'name': 'Betty', 'address': 'Green Grass 1'}\n",
      "{'_id': ObjectId('65de1df122fb144c0dcf5e86'), 'name': 'Richard', 'address': 'Sky st 331'}\n",
      "{'_id': ObjectId('65de1df122fb144c0dcf5e87'), 'name': 'Susan', 'address': 'One way 98'}\n",
      "{'_id': ObjectId('65de1df122fb144c0dcf5e88'), 'name': 'Vicky', 'address': 'Yellow Garden 2'}\n",
      "{'_id': ObjectId('65de1df122fb144c0dcf5e89'), 'name': 'Ben', 'address': 'Park Lane 38'}\n",
      "{'_id': ObjectId('65de1df122fb144c0dcf5e8a'), 'name': 'William', 'address': 'Central st 954'}\n",
      "{'_id': ObjectId('65de1df122fb144c0dcf5e8b'), 'name': 'Chuck', 'address': 'Main Road 989'}\n",
      "{'_id': ObjectId('65de1df122fb144c0dcf5e8c'), 'name': 'Viola', 'address': 'Sideway 1633'}\n",
      "{'_id': ObjectId('65de1f7a22fb144c0dcf5e8d'), 'companyName': 'pwskills', 'product': 'Affordable AI', 'courseOffered': 'Machine Learning with Deployment'}\n",
      "{'_id': ObjectId('65de1f7a22fb144c0dcf5e8e'), 'companyName': 'pwskills', 'product': 'Affordable AI', 'courseOffered': 'Deep Learning for NLP and Computer vision'}\n",
      "{'_id': ObjectId('65de1f7a22fb144c0dcf5e8f'), 'companyName': 'pwskills', 'product': 'Master Program', 'courseOffered': 'Data Science Masters Program'}\n"
     ]
    }
   ],
   "source": [
    "for i in coll_create.find():\n",
    "    print(i)"
   ]
  },
  {
   "cell_type": "code",
   "execution_count": 37,
   "metadata": {},
   "outputs": [],
   "source": [
    "# delete\n",
    "coll_create.drop()"
   ]
  },
  {
   "cell_type": "code",
   "execution_count": 38,
   "metadata": {},
   "outputs": [],
   "source": [
    "for i in coll_create.find():\n",
    "    print(i)"
   ]
  },
  {
   "cell_type": "code",
   "execution_count": null,
   "metadata": {},
   "outputs": [],
   "source": []
  }
 ],
 "metadata": {
  "kernelspec": {
   "display_name": "learn",
   "language": "python",
   "name": "python3"
  },
  "language_info": {
   "codemirror_mode": {
    "name": "ipython",
    "version": 3
   },
   "file_extension": ".py",
   "mimetype": "text/x-python",
   "name": "python",
   "nbconvert_exporter": "python",
   "pygments_lexer": "ipython3",
   "version": "3.8.18"
  }
 },
 "nbformat": 4,
 "nbformat_minor": 2
}
