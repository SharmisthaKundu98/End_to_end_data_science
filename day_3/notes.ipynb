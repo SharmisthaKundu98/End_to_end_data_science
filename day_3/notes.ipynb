{
 "cells": [
  {
   "cell_type": "markdown",
   "metadata": {},
   "source": [
    "# Boolean\n",
    "In Python, a ``boolean`` is a built-in data type that represents one of two possible values: ``True`` or ``False``. \n",
    "* Booleans are commonly used in programming for logical operations, comparisons, and conditional statements.\n",
    "* Boolean values are often the result of comparison operations, such as equality (==), inequality (!=), greater than (>), less than (<), etc."
   ]
  },
  {
   "cell_type": "code",
   "execution_count": 1,
   "metadata": {},
   "outputs": [
    {
     "data": {
      "text/plain": [
       "True"
      ]
     },
     "execution_count": 1,
     "metadata": {},
     "output_type": "execute_result"
    }
   ],
   "source": [
    "bool(1)"
   ]
  },
  {
   "cell_type": "code",
   "execution_count": 2,
   "metadata": {},
   "outputs": [
    {
     "data": {
      "text/plain": [
       "False"
      ]
     },
     "execution_count": 2,
     "metadata": {},
     "output_type": "execute_result"
    }
   ],
   "source": [
    "bool(0)"
   ]
  },
  {
   "cell_type": "markdown",
   "metadata": {},
   "source": [
    "# Strings"
   ]
  },
  {
   "cell_type": "markdown",
   "metadata": {},
   "source": [
    "In Python, a string is a sequence of characters enclosed within either single quotes (') or double quotes (\").\n",
    "* Strings are ``immutable``, meaning once they are created, they cannot be changed. \n",
    "    - However, we can manipulate them in various ways using string methods(replace(),strip(),split() etc.) or by slicing and concatenating them with other strings.\n",
    "   `` Always we get a new copy of that string.``\n",
    "\n",
    "* string supports ``Indexing`` and ``slicing``\n",
    "* we can iterate strings.\n",
    "* strings has many methods like count(),find(),split(),partition(), upper(), lower() etc.\n",
    "* Python also supports multi-line strings, which can be created using triple quotes (''' or \"\"\").\n",
    "\n",
    "#### split() method- \n",
    "* returns a list of sub strings using sep as a delimiter string,\n",
    "* sep = \" \" and maxsplit=-1 as default\n",
    "* split() split the whole string in every occurance of the seperator.\n",
    "\n",
    "#### partition() method-\n",
    "* partition() is same as split() method but it contains the seperator also and\n",
    "* partition do split only in the first occurance of the sub string. \n",
    "\n",
    "### reversed(str)- \n",
    "* reversed() function - return a reverse iterator object of the given sequence.\n",
    "* a typecasting function.\n",
    "\n",
    "#### join() method-\n",
    "* Concatenate any number of strings.\n",
    "* The string whose method is called is inserted in between each given string. The result is returned as a new string.\n",
    "    - \" \".join(\"abcd\") -> \"a b c d\"\n",
    "\n",
    "    - '.'.join(['ab', 'pq', 'rs']) -> 'ab.pq.rs'\n",
    "\n",
    "#### strip() method -\n",
    "* return a copy of the string , remove the whitespace leading and trailing both\n",
    "    - \" name \".strip(\" \") -> \"name\"\n",
    "    - remove the whitespace leading - \" name \".lstrip(\" \") -> \"name \"\n",
    "    - remove the whitespace trailing - \" name \".rstrip(\" \") -> \" name\"\n",
    "\n",
    "#### replace(previous_str, new_str) method -\n",
    "* return a new replaced copy of the string.\n",
    "\n",
    "\n",
    "    "
   ]
  },
  {
   "cell_type": "code",
   "execution_count": 3,
   "metadata": {},
   "outputs": [],
   "source": [
    "str1 = \"sharmistha\""
   ]
  },
  {
   "cell_type": "markdown",
   "metadata": {},
   "source": []
  }
 ],
 "metadata": {
  "kernelspec": {
   "display_name": "learn",
   "language": "python",
   "name": "python3"
  },
  "language_info": {
   "codemirror_mode": {
    "name": "ipython",
    "version": 3
   },
   "file_extension": ".py",
   "mimetype": "text/x-python",
   "name": "python",
   "nbconvert_exporter": "python",
   "pygments_lexer": "ipython3",
   "version": "3.8.18"
  }
 },
 "nbformat": 4,
 "nbformat_minor": 2
}
