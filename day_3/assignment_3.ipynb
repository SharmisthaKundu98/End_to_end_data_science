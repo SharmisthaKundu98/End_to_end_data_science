{
 "cells": [
  {
   "cell_type": "markdown",
   "metadata": {},
   "source": [
    "# Assignments"
   ]
  },
  {
   "cell_type": "code",
   "execution_count": 39,
   "metadata": {},
   "outputs": [
    {
     "name": "stdout",
     "output_type": "stream",
     "text": [
      "[1, 2, 3, 4, 5, 6, 7, 8, 9]\n",
      "[1, 2, 3, 4, 5, 6, 7, 8, 9]\n"
     ]
    }
   ],
   "source": [
    "## Q1:  flatten a list of lists into a single list\n",
    "\n",
    "l = [[1,2,3],[4,5,6],[7,8,9]]\n",
    "\n",
    "new_list = []\n",
    "def flatten_to_single_list(nested_list):\n",
    "    for sublist in nested_list:\n",
    "        for num in sublist:\n",
    "            new_list.append(num)\n",
    "    return new_list\n",
    "print(flatten_to_single_list(l))\n",
    "\n",
    "# using list comprehension\n",
    "print([num for sublist in l for num in sublist ])"
   ]
  },
  {
   "cell_type": "code",
   "execution_count": 40,
   "metadata": {},
   "outputs": [
    {
     "name": "stdout",
     "output_type": "stream",
     "text": [
      "[2, 3, 5, 7]\n"
     ]
    }
   ],
   "source": [
    "## Q2: create a list of only the prime numbers of a given list\n",
    "numbers =[1,2,3,4,5,6,7,8,9,10]\n",
    "\n",
    "\n",
    "def isprime(number):\n",
    "    if number == 1:\n",
    "        return False\n",
    "    for i in range(2,number):\n",
    "        if number%i == 0:\n",
    "            return False\n",
    "    return True\n",
    "        \n",
    "prime_list = []\n",
    "\n",
    "def get_prime_list_from_a_list(number_list):\n",
    "    for number in number_list:\n",
    "        if isprime(number) :\n",
    "            prime_list.append(number)\n",
    "    return prime_list\n",
    "\n",
    "print(get_prime_list_from_a_list(numbers))\n"
   ]
  },
  {
   "cell_type": "code",
   "execution_count": 68,
   "metadata": {},
   "outputs": [
    {
     "name": "stdout",
     "output_type": "stream",
     "text": [
      "[[1, 2], [1, 3], [1, 4], [1, 5], [2, 3], [2, 4], [2, 5], [3, 4], [3, 5], [4, 5]]\n",
      "[[1, 2], [1, 3], [1, 4], [1, 5], [2, 3], [2, 4], [2, 5], [3, 4], [3, 5], [4, 5]]\n"
     ]
    }
   ],
   "source": [
    "## Q3: create a list of all possible list of two elements from a list\n",
    "numbers = [1,2,3,4,5]\n",
    "\n",
    "List_of_pairs = []\n",
    "def get_pair(number_list):\n",
    "    for i in range(len(number_list)):\n",
    "        for j in range(i+1, len(number_list)):\n",
    "            pair = [number_list[i], number_list[j]]\n",
    "            List_of_pairs.append(pair)\n",
    "    return List_of_pairs\n",
    "print(get_pair(numbers))\n",
    "\n",
    "## using list comprehension\n",
    "original_list = [1,2,3,4,5]\n",
    "pairs = [[original_list[i], original_list[j]] for i in range(len(original_list)) \n",
    "         for j in range(i+1, len(original_list))]\n",
    "\n",
    "print(pairs)"
   ]
  },
  {
   "cell_type": "code",
   "execution_count": null,
   "metadata": {},
   "outputs": [],
   "source": []
  }
 ],
 "metadata": {
  "kernelspec": {
   "display_name": "learn",
   "language": "python",
   "name": "python3"
  },
  "language_info": {
   "codemirror_mode": {
    "name": "ipython",
    "version": 3
   },
   "file_extension": ".py",
   "mimetype": "text/x-python",
   "name": "python",
   "nbconvert_exporter": "python",
   "pygments_lexer": "ipython3",
   "version": "3.8.18"
  }
 },
 "nbformat": 4,
 "nbformat_minor": 2
}
