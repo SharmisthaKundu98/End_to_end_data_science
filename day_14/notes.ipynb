{
 "cells": [
  {
   "cell_type": "markdown",
   "metadata": {},
   "source": [
    "# day 14\n",
    "\n",
    "## Topics:\n",
    "1. Multiprocessing\n",
    "2. assignment related exception handling and memory managements\n"
   ]
  },
  {
   "cell_type": "markdown",
   "metadata": {},
   "source": [
    "## Multiprocessing\n",
    "Multiprocessing in Python is a powerful technique for achieving parallelism by running independent processes using subprocesses instead of threads. \n",
    "\n",
    "- parallely run some independent programs.\n",
    "\n",
    "\n",
    "#### Pool Object: \n",
    "One of the most useful features is the Pool object, which allows parallel execution of a function across multiple input values. You can distribute input data across processes, achieving data parallelism. "
   ]
  },
  {
   "cell_type": "code",
   "execution_count": 2,
   "metadata": {},
   "outputs": [],
   "source": [
    "from multiprocessing import Pool\n",
    "\n",
    "def f(x):\n",
    "    return x * x\n",
    "\n",
    "if __name__ == '__main__':\n",
    "    with Pool(5) as p:\n",
    "        print(p.map(f, [1, 2, 3]))  # Output: [1, 4, 9]"
   ]
  },
  {
   "cell_type": "code",
   "execution_count": null,
   "metadata": {},
   "outputs": [],
   "source": []
  }
 ],
 "metadata": {
  "kernelspec": {
   "display_name": "learn",
   "language": "python",
   "name": "python3"
  },
  "language_info": {
   "codemirror_mode": {
    "name": "ipython",
    "version": 3
   },
   "file_extension": ".py",
   "mimetype": "text/x-python",
   "name": "python",
   "nbconvert_exporter": "python",
   "pygments_lexer": "ipython3",
   "version": "3.8.18"
  }
 },
 "nbformat": 4,
 "nbformat_minor": 2
}
