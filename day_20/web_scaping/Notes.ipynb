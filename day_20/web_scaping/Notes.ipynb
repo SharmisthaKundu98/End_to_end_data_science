{
 "cells": [
  {
   "cell_type": "markdown",
   "metadata": {},
   "source": [
    "# Day- 20\n",
    "## Topic -\n",
    "1. Web Scraping"
   ]
  },
  {
   "cell_type": "markdown",
   "metadata": {},
   "source": [
    "# Web Scraping-\n",
    "\n",
    "When we search any product on flipkart website. Then In the Url it send a `search string` to the particular `server`.  https://www.flipkart.com/search?q=  and then the query string eg- \"iphone15\"\n",
    "```\n",
    "https://www.flipkart.com/search?q=iphone15\n",
    "```\n",
    "click to the url. we can see the webpage. \n",
    "\n",
    "Now if we want to read the Url then we use `client = urlopen(webpage_url)` and `client.read()`.\n",
    "\n",
    "To convert the webpage content to readable html, we will `beaultiful soup` to beautify. \n",
    "\n",
    "##### My objective is - to get the data from the webpage.\n",
    "\n"
   ]
  },
  {
   "cell_type": "markdown",
   "metadata": {},
   "source": [
    "Fn + F12 - to view the data of the webpage in browser in the element option. "
   ]
  }
 ],
 "metadata": {
  "kernelspec": {
   "display_name": "learn",
   "language": "python",
   "name": "python3"
  },
  "language_info": {
   "codemirror_mode": {
    "name": "ipython",
    "version": 3
   },
   "file_extension": ".py",
   "mimetype": "text/x-python",
   "name": "python",
   "nbconvert_exporter": "python",
   "pygments_lexer": "ipython3",
   "version": "3.8.18"
  }
 },
 "nbformat": 4,
 "nbformat_minor": 2
}
