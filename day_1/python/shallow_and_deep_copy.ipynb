{
 "cells": [
  {
   "cell_type": "markdown",
   "metadata": {},
   "source": [
    "### Shallow copy and deep copy of an object in python"
   ]
  },
  {
   "cell_type": "code",
   "execution_count": 1,
   "metadata": {},
   "outputs": [
    {
     "name": "stdout",
     "output_type": "stream",
     "text": [
      "[[1, 2], 3, [2, 5, 7, 4], 8]\n",
      "[[1, 2], 3, [2, 5, 7, 4], 8]\n",
      "2681333241600 2681333241600\n"
     ]
    }
   ],
   "source": [
    "x = [[1,2],3,[2,5,7,4]]\n",
    "y= x\n",
    "y.append(8)\n",
    "print(y)\n",
    "print(x)\n",
    "print(id(x), id(y))\n"
   ]
  },
  {
   "cell_type": "code",
   "execution_count": 2,
   "metadata": {},
   "outputs": [
    {
     "name": "stdout",
     "output_type": "stream",
     "text": [
      "2681333241600 2681333232896\n",
      "[[1, 2], 3, [2, 5, 7, 4], 8]\n",
      "[[1, 2], 3, [2, 5, 7, 4], 8, 10]\n"
     ]
    }
   ],
   "source": [
    "# shallow copy\n",
    "y = list(x)\n",
    "print(id(x), id(y))\n",
    "\n",
    "y.append(10)\n",
    "print(x)\n",
    "print(y)"
   ]
  },
  {
   "cell_type": "code",
   "execution_count": 3,
   "metadata": {},
   "outputs": [
    {
     "name": "stdout",
     "output_type": "stream",
     "text": [
      "2681333241600 2681333232896\n",
      "[[1, 2, 4], 3, [2, 5, 7, 4], 8]\n",
      "[[1, 2, 4], 3, [2, 5, 7, 4], 8, 10]\n"
     ]
    }
   ],
   "source": [
    "y[0].append(4)\n",
    "print(id(x), id(y))\n",
    "print(x)\n",
    "print(y)"
   ]
  },
  {
   "cell_type": "code",
   "execution_count": 4,
   "metadata": {},
   "outputs": [
    {
     "name": "stdout",
     "output_type": "stream",
     "text": [
      "Original list x: [[1, 2, 3], [4, 5, 6], [7, 8, 9]]\n",
      "Copied list y: [[1, 2, 3], [4, 5, 6], [7, 8, 9]]\n",
      "2681333501760 2681333501312\n",
      "Original list x: [[1, 2, 3, 10], [4, 5, 6], [7, 8, 9]]\n",
      "Copied list y: [[1, 2, 3, 10], [4, 5, 6], [7, 8, 9]]\n",
      "2681333501760 2681333501312\n"
     ]
    }
   ],
   "source": [
    "import copy\n",
    "x = [[1, 2, 3], [4, 5, 6], [7, 8, 9]]\n",
    "y = copy.copy(x)\n",
    "print(\"Original list x:\", x)\n",
    "print(\"Copied list y:\", y)\n",
    "print(id(x), id(y))\n",
    "\n",
    "\n",
    "# mutate some reference of items of y\n",
    "y[0].append(10)\n",
    "print(\"Original list x:\", x)\n",
    "print(\"Copied list y:\", y)\n",
    "print(id(x), id(y))"
   ]
  },
  {
   "cell_type": "code",
   "execution_count": 5,
   "metadata": {},
   "outputs": [
    {
     "name": "stdout",
     "output_type": "stream",
     "text": [
      "Original list x: [[1, 2, 3], [4, 5, 6], [7, 8, 9]]\n",
      "shallow Copied list y: [[1, 2, 3], [4, 5, 6], [7, 8, 9]]\n",
      "deep Copied list z: [[1, 2, 3], [4, 5, 6], [7, 8, 9]]\n",
      "2681333511296 2681333431680 2681333511040\n",
      "Original list x: [[1, 2, 3, 10], [4, 5, 6], [7, 8, 9]]\n",
      "shallow Copied list y: [[1, 2, 3, 10], [4, 5, 6], [7, 8, 9]]\n",
      "deep Copied list z: [[1, 2, 3], [4, 5, 6, 5], [7, 8, 9]]\n",
      "2681333511296 2681333431680 2681333511040\n"
     ]
    }
   ],
   "source": [
    "import copy\n",
    "x = [[1, 2, 3], [4, 5, 6], [7, 8, 9]]\n",
    "y = list(x) # create a new object that is a shallow copy of x.\n",
    "z = copy.deepcopy(x) # create a new object that is a deep copy of x.\n",
    "\n",
    "print(\"Original list x:\", x)\n",
    "print(\"shallow Copied list y:\", y)\n",
    "print(\"deep Copied list z:\", z)\n",
    "print(id(x), id(y), id(z))\n",
    "\n",
    "\n",
    "# mutate some reference of items of y\n",
    "y[0].append(10)\n",
    "z[1].append(5)\n",
    "print(\"Original list x:\", x)\n",
    "print(\"shallow Copied list y:\", y)\n",
    "print(\"deep Copied list z:\", z)\n",
    "print(id(x), id(y), id(z))"
   ]
  },
  {
   "cell_type": "code",
   "execution_count": 6,
   "metadata": {},
   "outputs": [
    {
     "data": {
      "text/plain": [
       "True"
      ]
     },
     "execution_count": 6,
     "metadata": {},
     "output_type": "execute_result"
    }
   ],
   "source": [
    "3>5 or 5>3"
   ]
  },
  {
   "cell_type": "code",
   "execution_count": 7,
   "metadata": {},
   "outputs": [
    {
     "name": "stdout",
     "output_type": "stream",
     "text": [
      "True\n"
     ]
    }
   ],
   "source": [
    "a = [1,2,3,4]\n",
    "print(3 in a)"
   ]
  },
  {
   "cell_type": "code",
   "execution_count": null,
   "metadata": {},
   "outputs": [],
   "source": []
  }
 ],
 "metadata": {
  "kernelspec": {
   "display_name": "learn",
   "language": "python",
   "name": "python3"
  },
  "language_info": {
   "codemirror_mode": {
    "name": "ipython",
    "version": 3
   },
   "file_extension": ".py",
   "mimetype": "text/x-python",
   "name": "python",
   "nbconvert_exporter": "python",
   "pygments_lexer": "ipython3",
   "version": "3.8.18"
  }
 },
 "nbformat": 4,
 "nbformat_minor": 2
}
