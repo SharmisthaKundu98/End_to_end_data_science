{
 "cells": [
  {
   "cell_type": "markdown",
   "metadata": {},
   "source": [
    "# Day 20:\n",
    "\n",
    "## Topics:\n",
    "1. Intro to data science\n",
    "2. Intro to statistics\n",
    "3. two areas of statistics - descriptive and Inferential\n",
    "4. Statistics Jargons"
   ]
  },
  {
   "cell_type": "markdown",
   "metadata": {},
   "source": [
    "# Intro to Data Science:\n",
    "\n",
    "### Data: \n",
    "- Base of analytics\n",
    "- collection of information,\n",
    "- any observation\n",
    "\n",
    "## data science -\n",
    "-  it is a concept technique used to analyse\n",
    "derive insights from your data.\n",
    "- If data is getting generated we want to use it.\n",
    "\n",
    "main part: \n",
    "1. statistics\n",
    "2. Probability\n",
    "3. Calculus\n",
    "\n",
    " "
   ]
  },
  {
   "cell_type": "markdown",
   "metadata": {},
   "source": [
    "# Intro to Statistics: \n",
    "collecting data,interpreting data and make conclusion.\n",
    "\n",
    "### STATISTICS \n",
    "- Statistics is the science concerned with developing and studying methods for collecting, analyzing, interpreting and presenting empirical data.\n",
    "\n"
   ]
  },
  {
   "cell_type": "markdown",
   "metadata": {},
   "source": [
    "### Two areas of statistics:\n",
    "1. Descriptive statistics\n",
    "2. Inferential statistics"
   ]
  },
  {
   "cell_type": "markdown",
   "metadata": {},
   "source": [
    "#### Descriptive: (describing our data how they look)\n",
    "- help to understand raw data and drive the data according to our business problem.\n",
    "- uses Numerical techniques(mean,median,mode,S.D,Variance) and graphical technique(pie chart, Histogram, bar chart etc) to `look for pattern in dataset and summerize the data to present info in conveniant way`."
   ]
  },
  {
   "cell_type": "markdown",
   "metadata": {},
   "source": [
    "#### Inferential statistics: (to conclude)\n",
    "- using sample data to make estimate,decision,prediction or generalization about a larger data.\n",
    "\n",
    "- `trying to reach the conclusion beyond the present immediate data`.\n",
    "\n",
    "Sample's data ------------> population's conclution"
   ]
  },
  {
   "cell_type": "markdown",
   "metadata": {},
   "source": [
    "eg - exit polls\n",
    " 2000 people participants\n",
    "\n",
    "1. descriptive-  gather data from present participants\n",
    "mean age = 20 \n",
    "\n",
    "2. inferential - mean age of voters of whole india =20 (conclude data from the samples only)\n"
   ]
  },
  {
   "cell_type": "markdown",
   "metadata": {},
   "source": [
    "eg - Blood test\n",
    "\n",
    "blood drops ----> infer about full body"
   ]
  },
  {
   "cell_type": "markdown",
   "metadata": {},
   "source": [
    "eg - cooking rice\n",
    "\n",
    "when we cook rice, check 2-3 grains --------> infer the whole rice(population)."
   ]
  },
  {
   "cell_type": "markdown",
   "metadata": {},
   "source": [
    "## Statistics Jargon (statistical term)-"
   ]
  },
  {
   "cell_type": "markdown",
   "metadata": {},
   "source": [
    "### POPULATION \n",
    "- collection or set of indivisuals or object whose properties are to be analyzed.\n",
    "\n",
    "- infinite population - when new data keeps on generating. \n",
    "eg- order on amazon\n",
    "- finite population - allready generated. \n",
    "eg- iris data, titanic data, order on amazon in 2023\n",
    "\n",
    "### Sample \n",
    "- a part of a POPULATION selected to estimate the whole population properties.\n",
    "- a subset of population\n",
    "- it should be representative of POPULATION.\n",
    "\n",
    "### Variable -\n",
    "- characteristics of indivisual of population or sample.\n",
    "eg - for iris data - sepal length, petal length, sepal width etc.\n",
    "- `features/predictors/columns` of the datasets\n",
    "\n",
    "### Experiment -\n",
    "- a planned activity whose results yield a set of data.\n",
    "\n",
    "### Parameter and Statistic-\n",
    "- `Parameter` is the numerical value summarizing the data of whole `population`.\n",
    "- `Statistic` is the numerical value summarizing the data of `Sample`.\n"
   ]
  },
  {
   "cell_type": "markdown",
   "metadata": {},
   "source": [
    "## Type of variables -\n",
    "\n",
    "1. Quantative - \n",
    "2. Qualitative - "
   ]
  },
  {
   "cell_type": "markdown",
   "metadata": {},
   "source": [
    "## Quantative variables-\n",
    "- measured numericals. eg - no of student, age etc\n",
    "1. `Discrete variables` - they can take specific,distinct values\n",
    " eg - no of students, num of classes \n",
    " eg - 1/5/2/43/53256\n",
    "\n",
    "2. `continuous variables` - they can take any value in a range.\n",
    "eg - height of student,tempurature.\n",
    "eg - 5.5,6.4,8.9"
   ]
  },
  {
   "cell_type": "markdown",
   "metadata": {},
   "source": [
    "## Qualitative variables-\n",
    "- categorical data\n",
    "eg - gender, yes/no, `output of Dice`\n",
    "1. `ordinal variable` - ordering between catagories\n",
    " eg- education,qualification\n",
    "\n",
    "2. `Nominal variable` - No intrensic ordering, purely categorical.\n",
    " eg- Gender- F/M/others, Hair colour - blk/red/brown\n"
   ]
  },
  {
   "cell_type": "markdown",
   "metadata": {},
   "source": []
  }
 ],
 "metadata": {
  "language_info": {
   "name": "python"
  }
 },
 "nbformat": 4,
 "nbformat_minor": 2
}
