{
 "cells": [
  {
   "cell_type": "markdown",
   "metadata": {},
   "source": [
    "# assignments"
   ]
  },
  {
   "cell_type": "markdown",
   "metadata": {},
   "source": [
    "Q1. You are writing code for a company. The requirement of the company is that you create a python function that will check whether the password entered by the user is correct or not. The function should take the password as input and return the string “Valid Password” if the entered password follows the below-given password guidelines else it should return “Invalid Password”.\n",
    "Note: \n",
    "1. The Password should contain at least two uppercase letters and at least two lowercase letters.\n",
    "2. The Password should contain at least a number and three special characters.\n",
    "3. The length of the password should be 10 characters long."
   ]
  },
  {
   "cell_type": "code",
   "execution_count": 61,
   "metadata": {},
   "outputs": [
    {
     "name": "stdout",
     "output_type": "stream",
     "text": [
      "Valid Password\n",
      "Invalid Password\n"
     ]
    }
   ],
   "source": [
    "special_char_string = '@_!#$%^&*\\'\\\"(\\\\|:;/?.><,)<>?}{+=~-'\n",
    "\n",
    "def counter(word:str,predicate):\n",
    "    ''' this func takes a conditional function(predicate) and a str.\n",
    "        using filter function we will get a filter object and convert it into list.\n",
    "        return length of the list\n",
    "    '''\n",
    "    return len(list(filter(predicate, [*word])))\n",
    "\n",
    "def isupper(char:str):\n",
    "     \"\"\"check the char is upper case or not,\n",
    "     if yes- return True, otherwise False\n",
    "     \"\"\"\n",
    "     return char.isupper()\n",
    "\n",
    "def islower(char:str):\n",
    "    \"\"\"check the char is lower case or not,\n",
    "     if yes- return True, otherwise False\n",
    "     \"\"\"\n",
    "    return char.islower()\n",
    "\n",
    "def is_special_char(char:str):\n",
    "     \"\"\"check the char is special character or not,\n",
    "     if yes- return True, otherwise False\n",
    "     \"\"\"\n",
    "     return char in special_char_string\n",
    "def is_digit(char:str):\n",
    "     \"\"\"check the char is a digit or not,\n",
    "     if yes- return True, otherwise False\n",
    "     \"\"\"\n",
    "     return char.isdigit()\n",
    "\n",
    "def check_password(password):\n",
    "    \"\"\"a function to check the given password is Valid or Not.\n",
    "    validity guidelines :\n",
    "    1. The Password should contain at least two uppercase letters and at least two lowercase letters.\n",
    "    2. The Password should contain at least a number and three special characters.\n",
    "    3. The length of the password should be 10 characters long.\n",
    "    \"\"\"\n",
    "    if len(password) < 10:\n",
    "        return \"Invalid Password\"\n",
    "    if counter(password, isupper) < 2 or counter(password, islower) < 2:\n",
    "        return \"Invalid Password\"\n",
    "    if counter(password, is_special_char) < 3:\n",
    "        return \"Invalid Password\"\n",
    "    if counter(password,is_digit) < 1:\n",
    "        return \"Invalid Password\"        \n",
    "    return \"Valid Password\"\n",
    "\n",
    "# check\n",
    "print(check_password('abAB1*2()dchcb>'))\n",
    "print(check_password('aabcdXc8c1@!%(.)>'))"
   ]
  },
  {
   "cell_type": "code",
   "execution_count": null,
   "metadata": {},
   "outputs": [],
   "source": []
  }
 ],
 "metadata": {
  "kernelspec": {
   "display_name": "learn",
   "language": "python",
   "name": "python3"
  },
  "language_info": {
   "codemirror_mode": {
    "name": "ipython",
    "version": 3
   },
   "file_extension": ".py",
   "mimetype": "text/x-python",
   "name": "python",
   "nbconvert_exporter": "python",
   "pygments_lexer": "ipython3",
   "version": "3.8.18"
  }
 },
 "nbformat": 4,
 "nbformat_minor": 2
}
