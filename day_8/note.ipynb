{
 "cells": [
  {
   "cell_type": "markdown",
   "metadata": {},
   "source": [
    "# OOPs concept \n",
    "(object oriented programming)"
   ]
  },
  {
   "cell_type": "markdown",
   "metadata": {},
   "source": [
    "OOPs stands for Object-Oriented Programming, which is a programming paradigm that uses objects and classes to create programs. \n",
    "* ``Objects`` are entities which has data and action. In programming, that have attributes and behaviors,methods.\n",
    "    - example- a `car` is an object with data (colour: red) and action(stop/start)\n",
    "\n",
    "* ``classes`` are blueprints for creating objects. ``Object`` is an instance of any class, which can be multiple for even one class.\n"
   ]
  },
  {
   "cell_type": "code",
   "execution_count": 1,
   "metadata": {},
   "outputs": [],
   "source": [
    "class Car:\n",
    "    name = \"BMW\"\n",
    "    colour = 'red'\n",
    "\n",
    "# car object\n",
    "car1 = Car()"
   ]
  },
  {
   "cell_type": "code",
   "execution_count": 2,
   "metadata": {},
   "outputs": [],
   "source": [
    "# For example, \n",
    "## creates a class named Dog.\n",
    "class Dog:\n",
    "    pass\n",
    "dog1 = Dog()  #creates an object named dog1 of the class Dog."
   ]
  },
  {
   "cell_type": "markdown",
   "metadata": {},
   "source": [
    "#### Classes are a way of organizing and structuring your code.\n",
    "my code will be clean, maintainable and we can reuse my code again and again. - modular coding."
   ]
  },
  {
   "cell_type": "markdown",
   "metadata": {},
   "source": [
    "### Some of the main concepts of OOPs in Python are:"
   ]
  },
  {
   "cell_type": "markdown",
   "metadata": {},
   "source": [
    "### Polymorphism \n",
    "#### (many forms of ones,methods have same name but different implementation in different class)\n",
    "Polymorphism means “many forms.” It allows objects of different classes to be treated uniformly.\n",
    "- `same function is being used for different types ` , \n",
    "    - for instance, len(\"abcd\") --> 4  and   len([1,2,3,4,5]) --> 5\n",
    "\n",
    "- It is the ability of an object to behave differently depending on the context.\n",
    "\n",
    "- In Python, polymorphism can be achieved by using methods that have the same name but different implementations in different classes. \n",
    "    - For example, \n",
    "        - the `bark()` method can have different sounds for different subclasses of Dog. \n",
    "        - the `+ operator` can perform addition or concatenation depending on the operands.\n",
    "        - class Animal:\n",
    "            - class Dog:\n",
    "                sound(): `bark`\n",
    "                - dog_obj = Dog()\n",
    "            - class Cat:\n",
    "                sound(): `meow`\n",
    "                - cat_obj = Cat()\n",
    "            - `sound()` method can have different sounds for different class Dog() and Cat().\n",
    "        \n",
    "\n"
   ]
  },
  {
   "cell_type": "markdown",
   "metadata": {},
   "source": [
    "### Encapsulation (wraping/enclosing something in or as if in a capsule)\n",
    "Encapsulation is one of the fundamental concepts in object-oriented programming (OOP).\n",
    "` It describes the idea of wrapping data and the methods that work on data within one unit(class)`.\n",
    "\n",
    "\n",
    " This `puts restrictions on accessing variables and methods directly` and can prevent the accidental modification of data.\n",
    "\n",
    "\n",
    "- This helps to achieve data abstraction and security. \n",
    "- In Python,we can use underscores (_) to denote private attributes or methods of a class.\n",
    "- It's like putting a protective bubble around object. it keeps the data of the object works hidden, only show what necessary.\n",
    "- example,\n",
    "- `_name` is a private attribute of the `class Dog` that cannot be accessed directly by other classes or objects.\n",
    "\n",
    "\n",
    "- When we implement `encapsulation`, we declare the fields in the class as `private` to prevent other classes from accessing them directly. However, the encapsulated data can only be accessed using public `get ()` and `set ()` methods. As a result, encapsulation confers several advantages: data security, code flexibility, and application maintainability.\n"
   ]
  },
  {
   "cell_type": "code",
   "execution_count": 2,
   "metadata": {},
   "outputs": [],
   "source": [
    "class Car:\n",
    "    name = \"BMW\"\n",
    "    colour = 'red'\n",
    "\n",
    "# car object\n",
    "car1 = Car()\n",
    "\n",
    "# name and colour are property, we should not access the property. \n",
    "# class 'Car' encapsulates its property 'name' and 'colour'"
   ]
  },
  {
   "cell_type": "markdown",
   "metadata": {},
   "source": [
    "### Inheritance:\n",
    " It is the mechanism of creating a new class from an existing class, inheriting its attributes and methods. This allows code reuse and polymorphism.The new class is called a `subclass` or `child class`, and the existing class is called a `superclass` or `parent class`.\n",
    "- Inheritance can be achieved by using parentheses after the class name and specifying the superclass name. \n",
    "    - For example, \n",
    "\t\t``parent class: class Dog():``  and ``child class : class Labrador(Dog)``: \n",
    "            \n",
    "            here, Labrador() inherits most of the characters from Dog() class.\n",
    "            \n",
    "- It's like passing on family traits. a new object can be inherits the characteristics of old object.\n",
    "    - ``example``, new launched car(new) and general car(old), most of the characteristics are inherits from general car to new launched car.\n"
   ]
  },
  {
   "cell_type": "markdown",
   "metadata": {},
   "source": [
    "### Abstraction (abstacting some common behaviours(method) from different classes to a parent class)\n",
    "Abstraction in Python’s Object-Oriented Programming (OOP) is a crucial concept that allows programmers to hide complex implementation details while exposing only essential information and functionalities to users.\n",
    "\n",
    "[`abstacting some common behaviours(method) from different classes to a parent class`]\n",
    "\n",
    "- In Python, abstraction can be achieved by using abstract classes and methods that are not implemented but only defined.\n",
    "    - `` from abc import ABC, abstractmethod ``\n",
    "    - For example, `class Animal(abc.ABC):` creates an abstract class named Animal that cannot be instantiated. child class are `class Dog()` and `class Cat()`\n",
    "\n",
    "\n",
    "- `For example`, when you drive a car, you don’t need to know the intricate workings of the engine, transmission, or braking systems. You interact with the car as a whole, abstracting away the underlying complexity.\n",
    "\n",
    "##### Importance of Abstraction:\n",
    "- Enables modular and well-organized code.\n",
    "- Promotes code reuse.\n",
    "- Improves developer collaboration."
   ]
  },
  {
   "cell_type": "markdown",
   "metadata": {},
   "source": [
    "# behaviours (methods) of a class"
   ]
  },
  {
   "cell_type": "markdown",
   "metadata": {},
   "source": [
    "- methods are the behaviour of a class. -  instance method.\n",
    "- through an object, I will be access a instance method.\n",
    "- an instance method receives the instance. "
   ]
  },
  {
   "cell_type": "code",
   "execution_count": 3,
   "metadata": {},
   "outputs": [],
   "source": [
    "class Ineuron:\n",
    "    \n",
    "    def __init__(self ,name,phone_number , email_id, student_id ):\n",
    "        \n",
    "        self.name = name\n",
    "        self.phone_number = phone_number\n",
    "        self.email_id = email_id\n",
    "        self.student_id = student_id\n",
    "        \n",
    "    # instance method\n",
    "    def return_student_details(self): \n",
    "        return self.name,self.phone_number, self.email_id , self.student_id\n",
    "    \n",
    "# Object/ instance \n",
    "ineuron = Ineuron(\"dipa\",29731812190,'dipa@gmail.com',27)\n"
   ]
  },
  {
   "cell_type": "code",
   "execution_count": 4,
   "metadata": {},
   "outputs": [
    {
     "data": {
      "text/plain": [
       "('dipa', 29731812190, 'dipa@gmail.com', 27)"
      ]
     },
     "execution_count": 4,
     "metadata": {},
     "output_type": "execute_result"
    }
   ],
   "source": [
    "# we can access a instance method through an object\n",
    "ineuron.return_student_details()"
   ]
  },
  {
   "cell_type": "markdown",
   "metadata": {},
   "source": [
    "built-in method : \n",
    "1. classmethod,\n",
    "2. staticmethod, \n"
   ]
  },
  {
   "cell_type": "markdown",
   "metadata": {},
   "source": []
  },
  {
   "cell_type": "markdown",
   "metadata": {},
   "source": [
    "# ``__init__`` function:\n",
    "- constructor of an object\n",
    "- this func is always executed when the class is being initiated.\n",
    "- it is used to assign the value to properties of the object or other necessary operation."
   ]
  },
  {
   "cell_type": "code",
   "execution_count": 1,
   "metadata": {},
   "outputs": [],
   "source": [
    "class Person:\n",
    "    def __init__(self,name, age):\n",
    "        self.name = name\n",
    "        self.age = age\n",
    "\n",
    "# object\n",
    "person1 = Person(\"sharmi\",26)"
   ]
  },
  {
   "cell_type": "markdown",
   "metadata": {},
   "source": [
    "# `self` parameter:\n",
    "it is a reference to the current object.\n",
    "- it is used to access variables that belongs to the class.\n"
   ]
  },
  {
   "cell_type": "markdown",
   "metadata": {},
   "source": []
  }
 ],
 "metadata": {
  "kernelspec": {
   "display_name": "learn",
   "language": "python",
   "name": "python3"
  },
  "language_info": {
   "codemirror_mode": {
    "name": "ipython",
    "version": 3
   },
   "file_extension": ".py",
   "mimetype": "text/x-python",
   "name": "python",
   "nbconvert_exporter": "python",
   "pygments_lexer": "ipython3",
   "version": "3.8.18"
  }
 },
 "nbformat": 4,
 "nbformat_minor": 2
}
