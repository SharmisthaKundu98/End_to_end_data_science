{
 "cells": [
  {
   "cell_type": "markdown",
   "metadata": {},
   "source": [
    "# OOPs concept \n",
    "(object oriented programming)"
   ]
  },
  {
   "cell_type": "markdown",
   "metadata": {},
   "source": [
    "OOPs stands for Object-Oriented Programming, which is a programming paradigm that uses objects and classes to create programs. \n",
    "* ``Objects`` are entities which has data and action. In programming, that have attributes and behaviors,methods.\n",
    "    - example- a `car` is an object with data (colour: red) and action(stop/start)\n",
    "\n",
    "* ``classes`` are blueprints for creating objects. ``Object`` is an instance of any class, which can be multiple for even one class.\n"
   ]
  },
  {
   "cell_type": "code",
   "execution_count": 1,
   "metadata": {},
   "outputs": [],
   "source": [
    "class Car:\n",
    "    name = \"BMW\"\n",
    "    colour = 'red'\n",
    "\n",
    "# car object\n",
    "car1 = Car()"
   ]
  },
  {
   "cell_type": "code",
   "execution_count": 2,
   "metadata": {},
   "outputs": [],
   "source": [
    "# For example, \n",
    "## creates a class named Dog.\n",
    "class Dog:\n",
    "    pass\n",
    "dog1 = Dog()  #creates an object named dog1 of the class Dog."
   ]
  },
  {
   "cell_type": "markdown",
   "metadata": {},
   "source": [
    "#### Classes are a way of organizing and structuring your code.\n",
    "my code will be clean, maintainable and we can reuse my code again and again. - modular coding."
   ]
  },
  {
   "cell_type": "markdown",
   "metadata": {},
   "source": [
    "### Some of the main concepts of OOPs in Python are:"
   ]
  },
  {
   "cell_type": "markdown",
   "metadata": {},
   "source": [
    "### Inheritance:\n",
    " It is the mechanism of creating a new class from an existing class, inheriting its attributes and methods. This allows code reuse and polymorphism.The new class is called a `subclass` or `child class`, and the existing class is called a `superclass` or `parent class`.\n",
    "- Inheritance can be achieved by using parentheses after the class name and specifying the superclass name. \n",
    "    - For example, `class Labrador(Dog)`: creates a subclass named Labrador from the superclass Dog.\n",
    "- It's like passing on family traits. a new object can be inherits the characteristics of old object.\n",
    "    - ``example``, new launched car(new) and general car(old), most of the characteristics are inherits from general car to new launched car.\n"
   ]
  },
  {
   "cell_type": "markdown",
   "metadata": {},
   "source": [
    "### Polymorphism\n",
    "- It is the ability of an object to behave differently depending on the context.\n",
    "    - In Python, polymorphism can be achieved by using methods that have the same name but different implementations in different classes. \n",
    "        - For example, the `bark()` method can have different sounds for different subclasses of Dog. \n",
    "    - the `+ operator` can perform addition or concatenation depending on the operands.\n"
   ]
  },
  {
   "cell_type": "markdown",
   "metadata": {},
   "source": [
    "### Encapsulation\n",
    "It is the technique of hiding the internal details of an object from the outside world. This helps to achieve data abstraction and security. In Python,we can use underscores (_) to denote private attributes or methods of a class.\n",
    "- It's like putting a protective bubble around object. it keeps the data of the pbject works hidden, only show what neccesary.\n",
    "- example,\n",
    "- `_name` is a private attribute of the `class Dog` that cannot be accessed directly by other classes or objects."
   ]
  },
  {
   "cell_type": "markdown",
   "metadata": {},
   "source": [
    "### Abstraction\n",
    "Abstraction in Python’s Object-Oriented Programming (OOP) is a crucial concept that allows programmers to hide complex implementation details while exposing only essential information and functionalities to users.\n",
    "\n",
    "- In Python, abstraction can be achieved by using abstract classes and methods that are not implemented but only defined.\n",
    "\n",
    "- `` from abc import ABC, abstractmethod ``\n",
    "- For example, `class Animal(abc.ABC):` creates an abstract class named Animal that cannot be instantiated.\n",
    "* `Abstraction` focuses on `what an object does` rather than `how it does it`.\n",
    "\n",
    "* It provides a `high-level view` of an object’s functionality, making it easier to understand and use without getting bogged down in internal details.\n",
    "\n",
    "- `For example`, when you drive a car, you don’t need to know the intricate workings of the engine, transmission, or braking systems. You interact with the car as a whole, abstracting away the underlying complexity.\n",
    "\n",
    "##### Importance of Abstraction:\n",
    "- Enables modular and well-organized code.\n",
    "- Promotes code reuse.\n",
    "- Improves developer collaboration."
   ]
  },
  {
   "cell_type": "markdown",
   "metadata": {},
   "source": []
  }
 ],
 "metadata": {
  "kernelspec": {
   "display_name": "learn",
   "language": "python",
   "name": "python3"
  },
  "language_info": {
   "codemirror_mode": {
    "name": "ipython",
    "version": 3
   },
   "file_extension": ".py",
   "mimetype": "text/x-python",
   "name": "python",
   "nbconvert_exporter": "python",
   "pygments_lexer": "ipython3",
   "version": "3.8.18"
  }
 },
 "nbformat": 4,
 "nbformat_minor": 2
}
